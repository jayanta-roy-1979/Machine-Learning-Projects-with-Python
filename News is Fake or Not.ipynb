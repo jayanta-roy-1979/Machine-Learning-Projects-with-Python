{
 "cells": [
  {
   "cell_type": "code",
   "execution_count": 41,
   "id": "673d1a8e",
   "metadata": {},
   "outputs": [],
   "source": [
    "# Understand your data\n",
    "import pandas as pd\n",
    "import seaborn as sns\n",
    "import matplotlib.pyplot as plt"
   ]
  },
  {
   "cell_type": "code",
   "execution_count": 2,
   "id": "b6e25bc2",
   "metadata": {},
   "outputs": [
    {
     "data": {
      "text/html": [
       "<div>\n",
       "<style scoped>\n",
       "    .dataframe tbody tr th:only-of-type {\n",
       "        vertical-align: middle;\n",
       "    }\n",
       "\n",
       "    .dataframe tbody tr th {\n",
       "        vertical-align: top;\n",
       "    }\n",
       "\n",
       "    .dataframe thead th {\n",
       "        text-align: right;\n",
       "    }\n",
       "</style>\n",
       "<table border=\"1\" class=\"dataframe\">\n",
       "  <thead>\n",
       "    <tr style=\"text-align: right;\">\n",
       "      <th></th>\n",
       "      <th>id</th>\n",
       "      <th>title</th>\n",
       "      <th>author</th>\n",
       "      <th>text</th>\n",
       "      <th>label</th>\n",
       "    </tr>\n",
       "  </thead>\n",
       "  <tbody>\n",
       "    <tr>\n",
       "      <th>0</th>\n",
       "      <td>0</td>\n",
       "      <td>House Dem Aide: We Didn’t Even See Comey’s Let...</td>\n",
       "      <td>Darrell Lucus</td>\n",
       "      <td>House Dem Aide: We Didn’t Even See Comey’s Let...</td>\n",
       "      <td>1</td>\n",
       "    </tr>\n",
       "    <tr>\n",
       "      <th>1</th>\n",
       "      <td>1</td>\n",
       "      <td>FLYNN: Hillary Clinton, Big Woman on Campus - ...</td>\n",
       "      <td>Daniel J. Flynn</td>\n",
       "      <td>Ever get the feeling your life circles the rou...</td>\n",
       "      <td>0</td>\n",
       "    </tr>\n",
       "    <tr>\n",
       "      <th>2</th>\n",
       "      <td>2</td>\n",
       "      <td>Why the Truth Might Get You Fired</td>\n",
       "      <td>Consortiumnews.com</td>\n",
       "      <td>Why the Truth Might Get You Fired October 29, ...</td>\n",
       "      <td>1</td>\n",
       "    </tr>\n",
       "    <tr>\n",
       "      <th>3</th>\n",
       "      <td>3</td>\n",
       "      <td>15 Civilians Killed In Single US Airstrike Hav...</td>\n",
       "      <td>Jessica Purkiss</td>\n",
       "      <td>Videos 15 Civilians Killed In Single US Airstr...</td>\n",
       "      <td>1</td>\n",
       "    </tr>\n",
       "    <tr>\n",
       "      <th>4</th>\n",
       "      <td>4</td>\n",
       "      <td>Iranian woman jailed for fictional unpublished...</td>\n",
       "      <td>Howard Portnoy</td>\n",
       "      <td>Print \\nAn Iranian woman has been sentenced to...</td>\n",
       "      <td>1</td>\n",
       "    </tr>\n",
       "  </tbody>\n",
       "</table>\n",
       "</div>"
      ],
      "text/plain": [
       "   id                                              title              author  \\\n",
       "0   0  House Dem Aide: We Didn’t Even See Comey’s Let...       Darrell Lucus   \n",
       "1   1  FLYNN: Hillary Clinton, Big Woman on Campus - ...     Daniel J. Flynn   \n",
       "2   2                  Why the Truth Might Get You Fired  Consortiumnews.com   \n",
       "3   3  15 Civilians Killed In Single US Airstrike Hav...     Jessica Purkiss   \n",
       "4   4  Iranian woman jailed for fictional unpublished...      Howard Portnoy   \n",
       "\n",
       "                                                text  label  \n",
       "0  House Dem Aide: We Didn’t Even See Comey’s Let...      1  \n",
       "1  Ever get the feeling your life circles the rou...      0  \n",
       "2  Why the Truth Might Get You Fired October 29, ...      1  \n",
       "3  Videos 15 Civilians Killed In Single US Airstr...      1  \n",
       "4  Print \\nAn Iranian woman has been sentenced to...      1  "
      ]
     },
     "execution_count": 2,
     "metadata": {},
     "output_type": "execute_result"
    }
   ],
   "source": [
    "df=pd.read_csv(r'C:\\Users\\Jayanta Roy\\NLP Projects\\Fake_News/train.csv')\n",
    "df.head()"
   ]
  },
  {
   "cell_type": "code",
   "execution_count": 4,
   "id": "863ee646",
   "metadata": {},
   "outputs": [
    {
     "data": {
      "text/plain": [
       "(20800, 5)"
      ]
     },
     "execution_count": 4,
     "metadata": {},
     "output_type": "execute_result"
    }
   ],
   "source": [
    "df.shape"
   ]
  },
  {
   "cell_type": "code",
   "execution_count": 5,
   "id": "5c89921e",
   "metadata": {},
   "outputs": [
    {
     "data": {
      "text/plain": [
       "id           0\n",
       "title      558\n",
       "author    1957\n",
       "text        39\n",
       "label        0\n",
       "dtype: int64"
      ]
     },
     "execution_count": 5,
     "metadata": {},
     "output_type": "execute_result"
    }
   ],
   "source": [
    "df.isnull().sum()"
   ]
  },
  {
   "cell_type": "code",
   "execution_count": 6,
   "id": "b6843f81",
   "metadata": {},
   "outputs": [],
   "source": [
    "df.dropna(inplace=True)"
   ]
  },
  {
   "cell_type": "code",
   "execution_count": 7,
   "id": "44f451eb",
   "metadata": {},
   "outputs": [
    {
     "data": {
      "text/plain": [
       "(18285, 5)"
      ]
     },
     "execution_count": 7,
     "metadata": {},
     "output_type": "execute_result"
    }
   ],
   "source": [
    "df.shape"
   ]
  },
  {
   "cell_type": "code",
   "execution_count": 10,
   "id": "ff269532",
   "metadata": {},
   "outputs": [],
   "source": [
    "import seaborn as sns\n",
    "def create_distribution(feature):\n",
    "    return sns.countplot(df[feature])"
   ]
  },
  {
   "cell_type": "code",
   "execution_count": 9,
   "id": "c3ea66e9",
   "metadata": {},
   "outputs": [
    {
     "data": {
      "text/plain": [
       "id         int64\n",
       "title     object\n",
       "author    object\n",
       "text      object\n",
       "label      int64\n",
       "dtype: object"
      ]
     },
     "execution_count": 9,
     "metadata": {},
     "output_type": "execute_result"
    }
   ],
   "source": [
    "df.dtypes"
   ]
  },
  {
   "cell_type": "code",
   "execution_count": 11,
   "id": "68347f67",
   "metadata": {},
   "outputs": [],
   "source": [
    "df['label']=df['label'].astype(str)"
   ]
  },
  {
   "cell_type": "code",
   "execution_count": 12,
   "id": "535e28be",
   "metadata": {},
   "outputs": [
    {
     "data": {
      "text/plain": [
       "id         int64\n",
       "title     object\n",
       "author    object\n",
       "text      object\n",
       "label     object\n",
       "dtype: object"
      ]
     },
     "execution_count": 12,
     "metadata": {},
     "output_type": "execute_result"
    }
   ],
   "source": [
    "df.dtypes"
   ]
  },
  {
   "cell_type": "code",
   "execution_count": 54,
   "id": "e3494ec8",
   "metadata": {},
   "outputs": [
    {
     "name": "stderr",
     "output_type": "stream",
     "text": [
      "C:\\Users\\Jayanta Roy\\AppData\\Local\\Temp\\ipykernel_4152\\2573175596.py:1: UserWarning: \n",
      "\n",
      "`distplot` is a deprecated function and will be removed in seaborn v0.14.0.\n",
      "\n",
      "Please adapt your code to use either `displot` (a figure-level function with\n",
      "similar flexibility) or `histplot` (an axes-level function for histograms).\n",
      "\n",
      "For a guide to updating your code to use the new functions, please see\n",
      "https://gist.github.com/mwaskom/de44147ed2974457ad6372750bbe5751\n",
      "\n",
      "  sns.distplot(df['label'],kde=False, color='orange')\n"
     ]
    },
    {
     "data": {
      "text/plain": [
       "Text(0.5, 1.0, 'Distribution Plot created by Jayanta Roy')"
      ]
     },
     "execution_count": 54,
     "metadata": {},
     "output_type": "execute_result"
    },
    {
     "data": {
      "image/png": "[encoded data removed]",
      "text/plain": [
       "<Figure size 640x480 with 1 Axes>"
      ]
     },
     "metadata": {},
     "output_type": "display_data"
    }
   ],
   "source": [
    "sns.distplot(df['label'],kde=False, color='orange')\n",
    "plt.title('Distribution Plot created by Jayanta Roy')"
   ]
  },
  {
   "cell_type": "code",
   "execution_count": 60,
   "id": "c732e5c2",
   "metadata": {},
   "outputs": [
    {
     "data": {
      "image/png": "[encoded data removed]",
      "text/plain": [
       "<Figure size 558.875x500 with 1 Axes>"
      ]
     },
     "metadata": {},
     "output_type": "display_data"
    }
   ],
   "source": [
    "sns.displot(data=df, x=\"label\",hue='label')\n",
    "plt.title( 'Distribution Plot created by Jayanta Roy',color='darkblue')\n",
    "plt.show()"
   ]
  },
  {
   "cell_type": "code",
   "execution_count": 16,
   "id": "17727b0b",
   "metadata": {},
   "outputs": [
    {
     "data": {
      "text/html": [
       "<div>\n",
       "<style scoped>\n",
       "    .dataframe tbody tr th:only-of-type {\n",
       "        vertical-align: middle;\n",
       "    }\n",
       "\n",
       "    .dataframe tbody tr th {\n",
       "        vertical-align: top;\n",
       "    }\n",
       "\n",
       "    .dataframe thead th {\n",
       "        text-align: right;\n",
       "    }\n",
       "</style>\n",
       "<table border=\"1\" class=\"dataframe\">\n",
       "  <thead>\n",
       "    <tr style=\"text-align: right;\">\n",
       "      <th></th>\n",
       "      <th>id</th>\n",
       "      <th>title</th>\n",
       "      <th>author</th>\n",
       "      <th>text</th>\n",
       "      <th>label</th>\n",
       "    </tr>\n",
       "  </thead>\n",
       "  <tbody>\n",
       "    <tr>\n",
       "      <th>0</th>\n",
       "      <td>0</td>\n",
       "      <td>House Dem Aide: We Didn’t Even See Comey’s Let...</td>\n",
       "      <td>Darrell Lucus</td>\n",
       "      <td>House Dem Aide: We Didn’t Even See Comey’s Let...</td>\n",
       "      <td>1</td>\n",
       "    </tr>\n",
       "    <tr>\n",
       "      <th>1</th>\n",
       "      <td>1</td>\n",
       "      <td>FLYNN: Hillary Clinton, Big Woman on Campus - ...</td>\n",
       "      <td>Daniel J. Flynn</td>\n",
       "      <td>Ever get the feeling your life circles the rou...</td>\n",
       "      <td>0</td>\n",
       "    </tr>\n",
       "    <tr>\n",
       "      <th>2</th>\n",
       "      <td>2</td>\n",
       "      <td>Why the Truth Might Get You Fired</td>\n",
       "      <td>Consortiumnews.com</td>\n",
       "      <td>Why the Truth Might Get You Fired October 29, ...</td>\n",
       "      <td>1</td>\n",
       "    </tr>\n",
       "    <tr>\n",
       "      <th>3</th>\n",
       "      <td>3</td>\n",
       "      <td>15 Civilians Killed In Single US Airstrike Hav...</td>\n",
       "      <td>Jessica Purkiss</td>\n",
       "      <td>Videos 15 Civilians Killed In Single US Airstr...</td>\n",
       "      <td>1</td>\n",
       "    </tr>\n",
       "    <tr>\n",
       "      <th>4</th>\n",
       "      <td>4</td>\n",
       "      <td>Iranian woman jailed for fictional unpublished...</td>\n",
       "      <td>Howard Portnoy</td>\n",
       "      <td>Print \\nAn Iranian woman has been sentenced to...</td>\n",
       "      <td>1</td>\n",
       "    </tr>\n",
       "    <tr>\n",
       "      <th>5</th>\n",
       "      <td>5</td>\n",
       "      <td>Jackie Mason: Hollywood Would Love Trump if He...</td>\n",
       "      <td>Daniel Nussbaum</td>\n",
       "      <td>In these trying times, Jackie Mason is the Voi...</td>\n",
       "      <td>0</td>\n",
       "    </tr>\n",
       "    <tr>\n",
       "      <th>7</th>\n",
       "      <td>7</td>\n",
       "      <td>Benoît Hamon Wins French Socialist Party’s Pre...</td>\n",
       "      <td>Alissa J. Rubin</td>\n",
       "      <td>PARIS  —   France chose an idealistic, traditi...</td>\n",
       "      <td>0</td>\n",
       "    </tr>\n",
       "    <tr>\n",
       "      <th>9</th>\n",
       "      <td>9</td>\n",
       "      <td>A Back-Channel Plan for Ukraine and Russia, Co...</td>\n",
       "      <td>Megan Twohey and Scott Shane</td>\n",
       "      <td>A week before Michael T. Flynn resigned as nat...</td>\n",
       "      <td>0</td>\n",
       "    </tr>\n",
       "    <tr>\n",
       "      <th>10</th>\n",
       "      <td>10</td>\n",
       "      <td>Obama’s Organizing for Action Partners with So...</td>\n",
       "      <td>Aaron Klein</td>\n",
       "      <td>Organizing for Action, the activist group that...</td>\n",
       "      <td>0</td>\n",
       "    </tr>\n",
       "    <tr>\n",
       "      <th>11</th>\n",
       "      <td>11</td>\n",
       "      <td>BBC Comedy Sketch \"Real Housewives of ISIS\" Ca...</td>\n",
       "      <td>Chris Tomlinson</td>\n",
       "      <td>The BBC produced spoof on the “Real Housewives...</td>\n",
       "      <td>0</td>\n",
       "    </tr>\n",
       "    <tr>\n",
       "      <th>12</th>\n",
       "      <td>12</td>\n",
       "      <td>Russian Researchers Discover Secret Nazi Milit...</td>\n",
       "      <td>Amando Flavio</td>\n",
       "      <td>The mystery surrounding The Third Reich and Na...</td>\n",
       "      <td>1</td>\n",
       "    </tr>\n",
       "    <tr>\n",
       "      <th>13</th>\n",
       "      <td>13</td>\n",
       "      <td>US Officials See No Link Between Trump and Russia</td>\n",
       "      <td>Jason Ditz</td>\n",
       "      <td>Clinton Campaign Demands FBI Affirm Trump's Ru...</td>\n",
       "      <td>1</td>\n",
       "    </tr>\n",
       "    <tr>\n",
       "      <th>14</th>\n",
       "      <td>14</td>\n",
       "      <td>Re: Yes, There Are Paid Government Trolls On S...</td>\n",
       "      <td>AnotherAnnie</td>\n",
       "      <td>Yes, There Are Paid Government Trolls On Socia...</td>\n",
       "      <td>1</td>\n",
       "    </tr>\n",
       "    <tr>\n",
       "      <th>15</th>\n",
       "      <td>15</td>\n",
       "      <td>In Major League Soccer, Argentines Find a Home...</td>\n",
       "      <td>Jack Williams</td>\n",
       "      <td>Guillermo Barros Schelotto was not the first A...</td>\n",
       "      <td>0</td>\n",
       "    </tr>\n",
       "    <tr>\n",
       "      <th>16</th>\n",
       "      <td>16</td>\n",
       "      <td>Wells Fargo Chief Abruptly Steps Down - The Ne...</td>\n",
       "      <td>Michael Corkery and Stacy Cowley</td>\n",
       "      <td>The scandal engulfing Wells Fargo toppled its ...</td>\n",
       "      <td>0</td>\n",
       "    </tr>\n",
       "    <tr>\n",
       "      <th>17</th>\n",
       "      <td>17</td>\n",
       "      <td>Anonymous Donor Pays $2.5 Million To Release E...</td>\n",
       "      <td>Starkman</td>\n",
       "      <td>A Caddo Nation tribal leader has just been fre...</td>\n",
       "      <td>1</td>\n",
       "    </tr>\n",
       "    <tr>\n",
       "      <th>18</th>\n",
       "      <td>18</td>\n",
       "      <td>FBI Closes In On Hillary!</td>\n",
       "      <td>The Doc</td>\n",
       "      <td>FBI Closes In On Hillary! Posted on Home » Hea...</td>\n",
       "      <td>1</td>\n",
       "    </tr>\n",
       "    <tr>\n",
       "      <th>19</th>\n",
       "      <td>19</td>\n",
       "      <td>Chuck Todd: ’BuzzFeed Did Donald Trump a Polit...</td>\n",
       "      <td>Jeff Poor</td>\n",
       "      <td>Wednesday after   Donald Trump’s press confere...</td>\n",
       "      <td>0</td>\n",
       "    </tr>\n",
       "    <tr>\n",
       "      <th>21</th>\n",
       "      <td>21</td>\n",
       "      <td>Monica Lewinsky, Clinton Sex Scandal Set for ’...</td>\n",
       "      <td>Jerome Hudson</td>\n",
       "      <td>Screenwriter Ryan Murphy, who has produced the...</td>\n",
       "      <td>0</td>\n",
       "    </tr>\n",
       "    <tr>\n",
       "      <th>22</th>\n",
       "      <td>22</td>\n",
       "      <td>Rob Reiner: Trump Is ’Mentally Unstable’ - Bre...</td>\n",
       "      <td>Pam Key</td>\n",
       "      <td>Sunday on MSNBC’s “AM Joy,” actor and director...</td>\n",
       "      <td>0</td>\n",
       "    </tr>\n",
       "  </tbody>\n",
       "</table>\n",
       "</div>"
      ],
      "text/plain": [
       "    id                                              title  \\\n",
       "0    0  House Dem Aide: We Didn’t Even See Comey’s Let...   \n",
       "1    1  FLYNN: Hillary Clinton, Big Woman on Campus - ...   \n",
       "2    2                  Why the Truth Might Get You Fired   \n",
       "3    3  15 Civilians Killed In Single US Airstrike Hav...   \n",
       "4    4  Iranian woman jailed for fictional unpublished...   \n",
       "5    5  Jackie Mason: Hollywood Would Love Trump if He...   \n",
       "7    7  Benoît Hamon Wins French Socialist Party’s Pre...   \n",
       "9    9  A Back-Channel Plan for Ukraine and Russia, Co...   \n",
       "10  10  Obama’s Organizing for Action Partners with So...   \n",
       "11  11  BBC Comedy Sketch \"Real Housewives of ISIS\" Ca...   \n",
       "12  12  Russian Researchers Discover Secret Nazi Milit...   \n",
       "13  13  US Officials See No Link Between Trump and Russia   \n",
       "14  14  Re: Yes, There Are Paid Government Trolls On S...   \n",
       "15  15  In Major League Soccer, Argentines Find a Home...   \n",
       "16  16  Wells Fargo Chief Abruptly Steps Down - The Ne...   \n",
       "17  17  Anonymous Donor Pays $2.5 Million To Release E...   \n",
       "18  18                          FBI Closes In On Hillary!   \n",
       "19  19  Chuck Todd: ’BuzzFeed Did Donald Trump a Polit...   \n",
       "21  21  Monica Lewinsky, Clinton Sex Scandal Set for ’...   \n",
       "22  22  Rob Reiner: Trump Is ’Mentally Unstable’ - Bre...   \n",
       "\n",
       "                              author  \\\n",
       "0                      Darrell Lucus   \n",
       "1                    Daniel J. Flynn   \n",
       "2                 Consortiumnews.com   \n",
       "3                    Jessica Purkiss   \n",
       "4                     Howard Portnoy   \n",
       "5                    Daniel Nussbaum   \n",
       "7                    Alissa J. Rubin   \n",
       "9       Megan Twohey and Scott Shane   \n",
       "10                       Aaron Klein   \n",
       "11                   Chris Tomlinson   \n",
       "12                     Amando Flavio   \n",
       "13                        Jason Ditz   \n",
       "14                      AnotherAnnie   \n",
       "15                     Jack Williams   \n",
       "16  Michael Corkery and Stacy Cowley   \n",
       "17                          Starkman   \n",
       "18                           The Doc   \n",
       "19                         Jeff Poor   \n",
       "21                     Jerome Hudson   \n",
       "22                           Pam Key   \n",
       "\n",
       "                                                 text label  \n",
       "0   House Dem Aide: We Didn’t Even See Comey’s Let...     1  \n",
       "1   Ever get the feeling your life circles the rou...     0  \n",
       "2   Why the Truth Might Get You Fired October 29, ...     1  \n",
       "3   Videos 15 Civilians Killed In Single US Airstr...     1  \n",
       "4   Print \\nAn Iranian woman has been sentenced to...     1  \n",
       "5   In these trying times, Jackie Mason is the Voi...     0  \n",
       "7   PARIS  —   France chose an idealistic, traditi...     0  \n",
       "9   A week before Michael T. Flynn resigned as nat...     0  \n",
       "10  Organizing for Action, the activist group that...     0  \n",
       "11  The BBC produced spoof on the “Real Housewives...     0  \n",
       "12  The mystery surrounding The Third Reich and Na...     1  \n",
       "13  Clinton Campaign Demands FBI Affirm Trump's Ru...     1  \n",
       "14  Yes, There Are Paid Government Trolls On Socia...     1  \n",
       "15  Guillermo Barros Schelotto was not the first A...     0  \n",
       "16  The scandal engulfing Wells Fargo toppled its ...     0  \n",
       "17  A Caddo Nation tribal leader has just been fre...     1  \n",
       "18  FBI Closes In On Hillary! Posted on Home » Hea...     1  \n",
       "19  Wednesday after   Donald Trump’s press confere...     0  \n",
       "21  Screenwriter Ryan Murphy, who has produced the...     0  \n",
       "22  Sunday on MSNBC’s “AM Joy,” actor and director...     0  "
      ]
     },
     "execution_count": 16,
     "metadata": {},
     "output_type": "execute_result"
    }
   ],
   "source": [
    "df.head(20)"
   ]
  },
  {
   "cell_type": "code",
   "execution_count": 24,
   "id": "bfd90210",
   "metadata": {},
   "outputs": [],
   "source": [
    "messages=df.copy()"
   ]
  },
  {
   "cell_type": "code",
   "execution_count": 26,
   "id": "9f127e97",
   "metadata": {},
   "outputs": [
    {
     "data": {
      "text/html": [
       "<div>\n",
       "<style scoped>\n",
       "    .dataframe tbody tr th:only-of-type {\n",
       "        vertical-align: middle;\n",
       "    }\n",
       "\n",
       "    .dataframe tbody tr th {\n",
       "        vertical-align: top;\n",
       "    }\n",
       "\n",
       "    .dataframe thead th {\n",
       "        text-align: right;\n",
       "    }\n",
       "</style>\n",
       "<table border=\"1\" class=\"dataframe\">\n",
       "  <thead>\n",
       "    <tr style=\"text-align: right;\">\n",
       "      <th></th>\n",
       "      <th>id</th>\n",
       "      <th>title</th>\n",
       "      <th>author</th>\n",
       "      <th>text</th>\n",
       "      <th>label</th>\n",
       "    </tr>\n",
       "  </thead>\n",
       "  <tbody>\n",
       "    <tr>\n",
       "      <th>0</th>\n",
       "      <td>0</td>\n",
       "      <td>House Dem Aide: We Didn’t Even See Comey’s Let...</td>\n",
       "      <td>Darrell Lucus</td>\n",
       "      <td>House Dem Aide: We Didn’t Even See Comey’s Let...</td>\n",
       "      <td>1</td>\n",
       "    </tr>\n",
       "    <tr>\n",
       "      <th>1</th>\n",
       "      <td>1</td>\n",
       "      <td>FLYNN: Hillary Clinton, Big Woman on Campus - ...</td>\n",
       "      <td>Daniel J. Flynn</td>\n",
       "      <td>Ever get the feeling your life circles the rou...</td>\n",
       "      <td>0</td>\n",
       "    </tr>\n",
       "    <tr>\n",
       "      <th>2</th>\n",
       "      <td>2</td>\n",
       "      <td>Why the Truth Might Get You Fired</td>\n",
       "      <td>Consortiumnews.com</td>\n",
       "      <td>Why the Truth Might Get You Fired October 29, ...</td>\n",
       "      <td>1</td>\n",
       "    </tr>\n",
       "    <tr>\n",
       "      <th>3</th>\n",
       "      <td>3</td>\n",
       "      <td>15 Civilians Killed In Single US Airstrike Hav...</td>\n",
       "      <td>Jessica Purkiss</td>\n",
       "      <td>Videos 15 Civilians Killed In Single US Airstr...</td>\n",
       "      <td>1</td>\n",
       "    </tr>\n",
       "    <tr>\n",
       "      <th>4</th>\n",
       "      <td>4</td>\n",
       "      <td>Iranian woman jailed for fictional unpublished...</td>\n",
       "      <td>Howard Portnoy</td>\n",
       "      <td>Print \\nAn Iranian woman has been sentenced to...</td>\n",
       "      <td>1</td>\n",
       "    </tr>\n",
       "  </tbody>\n",
       "</table>\n",
       "</div>"
      ],
      "text/plain": [
       "   id                                              title              author  \\\n",
       "0   0  House Dem Aide: We Didn’t Even See Comey’s Let...       Darrell Lucus   \n",
       "1   1  FLYNN: Hillary Clinton, Big Woman on Campus - ...     Daniel J. Flynn   \n",
       "2   2                  Why the Truth Might Get You Fired  Consortiumnews.com   \n",
       "3   3  15 Civilians Killed In Single US Airstrike Hav...     Jessica Purkiss   \n",
       "4   4  Iranian woman jailed for fictional unpublished...      Howard Portnoy   \n",
       "\n",
       "                                                text label  \n",
       "0  House Dem Aide: We Didn’t Even See Comey’s Let...     1  \n",
       "1  Ever get the feeling your life circles the rou...     0  \n",
       "2  Why the Truth Might Get You Fired October 29, ...     1  \n",
       "3  Videos 15 Civilians Killed In Single US Airstr...     1  \n",
       "4  Print \\nAn Iranian woman has been sentenced to...     1  "
      ]
     },
     "execution_count": 26,
     "metadata": {},
     "output_type": "execute_result"
    }
   ],
   "source": [
    "messages.head()"
   ]
  },
  {
   "cell_type": "code",
   "execution_count": 27,
   "id": "8b4c8c14",
   "metadata": {},
   "outputs": [],
   "source": [
    "messages.reset_index(inplace=True)"
   ]
  },
  {
   "cell_type": "code",
   "execution_count": 28,
   "id": "b9a11248",
   "metadata": {},
   "outputs": [
    {
     "data": {
      "text/html": [
       "<div>\n",
       "<style scoped>\n",
       "    .dataframe tbody tr th:only-of-type {\n",
       "        vertical-align: middle;\n",
       "    }\n",
       "\n",
       "    .dataframe tbody tr th {\n",
       "        vertical-align: top;\n",
       "    }\n",
       "\n",
       "    .dataframe thead th {\n",
       "        text-align: right;\n",
       "    }\n",
       "</style>\n",
       "<table border=\"1\" class=\"dataframe\">\n",
       "  <thead>\n",
       "    <tr style=\"text-align: right;\">\n",
       "      <th></th>\n",
       "      <th>index</th>\n",
       "      <th>id</th>\n",
       "      <th>title</th>\n",
       "      <th>author</th>\n",
       "      <th>text</th>\n",
       "      <th>label</th>\n",
       "    </tr>\n",
       "  </thead>\n",
       "  <tbody>\n",
       "    <tr>\n",
       "      <th>0</th>\n",
       "      <td>0</td>\n",
       "      <td>0</td>\n",
       "      <td>House Dem Aide: We Didn’t Even See Comey’s Let...</td>\n",
       "      <td>Darrell Lucus</td>\n",
       "      <td>House Dem Aide: We Didn’t Even See Comey’s Let...</td>\n",
       "      <td>1</td>\n",
       "    </tr>\n",
       "    <tr>\n",
       "      <th>1</th>\n",
       "      <td>1</td>\n",
       "      <td>1</td>\n",
       "      <td>FLYNN: Hillary Clinton, Big Woman on Campus - ...</td>\n",
       "      <td>Daniel J. Flynn</td>\n",
       "      <td>Ever get the feeling your life circles the rou...</td>\n",
       "      <td>0</td>\n",
       "    </tr>\n",
       "    <tr>\n",
       "      <th>2</th>\n",
       "      <td>2</td>\n",
       "      <td>2</td>\n",
       "      <td>Why the Truth Might Get You Fired</td>\n",
       "      <td>Consortiumnews.com</td>\n",
       "      <td>Why the Truth Might Get You Fired October 29, ...</td>\n",
       "      <td>1</td>\n",
       "    </tr>\n",
       "    <tr>\n",
       "      <th>3</th>\n",
       "      <td>3</td>\n",
       "      <td>3</td>\n",
       "      <td>15 Civilians Killed In Single US Airstrike Hav...</td>\n",
       "      <td>Jessica Purkiss</td>\n",
       "      <td>Videos 15 Civilians Killed In Single US Airstr...</td>\n",
       "      <td>1</td>\n",
       "    </tr>\n",
       "    <tr>\n",
       "      <th>4</th>\n",
       "      <td>4</td>\n",
       "      <td>4</td>\n",
       "      <td>Iranian woman jailed for fictional unpublished...</td>\n",
       "      <td>Howard Portnoy</td>\n",
       "      <td>Print \\nAn Iranian woman has been sentenced to...</td>\n",
       "      <td>1</td>\n",
       "    </tr>\n",
       "    <tr>\n",
       "      <th>5</th>\n",
       "      <td>5</td>\n",
       "      <td>5</td>\n",
       "      <td>Jackie Mason: Hollywood Would Love Trump if He...</td>\n",
       "      <td>Daniel Nussbaum</td>\n",
       "      <td>In these trying times, Jackie Mason is the Voi...</td>\n",
       "      <td>0</td>\n",
       "    </tr>\n",
       "    <tr>\n",
       "      <th>6</th>\n",
       "      <td>7</td>\n",
       "      <td>7</td>\n",
       "      <td>Benoît Hamon Wins French Socialist Party’s Pre...</td>\n",
       "      <td>Alissa J. Rubin</td>\n",
       "      <td>PARIS  —   France chose an idealistic, traditi...</td>\n",
       "      <td>0</td>\n",
       "    </tr>\n",
       "    <tr>\n",
       "      <th>7</th>\n",
       "      <td>9</td>\n",
       "      <td>9</td>\n",
       "      <td>A Back-Channel Plan for Ukraine and Russia, Co...</td>\n",
       "      <td>Megan Twohey and Scott Shane</td>\n",
       "      <td>A week before Michael T. Flynn resigned as nat...</td>\n",
       "      <td>0</td>\n",
       "    </tr>\n",
       "    <tr>\n",
       "      <th>8</th>\n",
       "      <td>10</td>\n",
       "      <td>10</td>\n",
       "      <td>Obama’s Organizing for Action Partners with So...</td>\n",
       "      <td>Aaron Klein</td>\n",
       "      <td>Organizing for Action, the activist group that...</td>\n",
       "      <td>0</td>\n",
       "    </tr>\n",
       "    <tr>\n",
       "      <th>9</th>\n",
       "      <td>11</td>\n",
       "      <td>11</td>\n",
       "      <td>BBC Comedy Sketch \"Real Housewives of ISIS\" Ca...</td>\n",
       "      <td>Chris Tomlinson</td>\n",
       "      <td>The BBC produced spoof on the “Real Housewives...</td>\n",
       "      <td>0</td>\n",
       "    </tr>\n",
       "  </tbody>\n",
       "</table>\n",
       "</div>"
      ],
      "text/plain": [
       "   index  id                                              title  \\\n",
       "0      0   0  House Dem Aide: We Didn’t Even See Comey’s Let...   \n",
       "1      1   1  FLYNN: Hillary Clinton, Big Woman on Campus - ...   \n",
       "2      2   2                  Why the Truth Might Get You Fired   \n",
       "3      3   3  15 Civilians Killed In Single US Airstrike Hav...   \n",
       "4      4   4  Iranian woman jailed for fictional unpublished...   \n",
       "5      5   5  Jackie Mason: Hollywood Would Love Trump if He...   \n",
       "6      7   7  Benoît Hamon Wins French Socialist Party’s Pre...   \n",
       "7      9   9  A Back-Channel Plan for Ukraine and Russia, Co...   \n",
       "8     10  10  Obama’s Organizing for Action Partners with So...   \n",
       "9     11  11  BBC Comedy Sketch \"Real Housewives of ISIS\" Ca...   \n",
       "\n",
       "                         author  \\\n",
       "0                 Darrell Lucus   \n",
       "1               Daniel J. Flynn   \n",
       "2            Consortiumnews.com   \n",
       "3               Jessica Purkiss   \n",
       "4                Howard Portnoy   \n",
       "5               Daniel Nussbaum   \n",
       "6               Alissa J. Rubin   \n",
       "7  Megan Twohey and Scott Shane   \n",
       "8                   Aaron Klein   \n",
       "9               Chris Tomlinson   \n",
       "\n",
       "                                                text label  \n",
       "0  House Dem Aide: We Didn’t Even See Comey’s Let...     1  \n",
       "1  Ever get the feeling your life circles the rou...     0  \n",
       "2  Why the Truth Might Get You Fired October 29, ...     1  \n",
       "3  Videos 15 Civilians Killed In Single US Airstr...     1  \n",
       "4  Print \\nAn Iranian woman has been sentenced to...     1  \n",
       "5  In these trying times, Jackie Mason is the Voi...     0  \n",
       "6  PARIS  —   France chose an idealistic, traditi...     0  \n",
       "7  A week before Michael T. Flynn resigned as nat...     0  \n",
       "8  Organizing for Action, the activist group that...     0  \n",
       "9  The BBC produced spoof on the “Real Housewives...     0  "
      ]
     },
     "execution_count": 28,
     "metadata": {},
     "output_type": "execute_result"
    }
   ],
   "source": [
    "messages.head(10)"
   ]
  },
  {
   "cell_type": "code",
   "execution_count": 43,
   "id": "efaf870f",
   "metadata": {},
   "outputs": [],
   "source": [
    "messages.drop(['index','id'],axis=1,inplace=True)"
   ]
  },
  {
   "cell_type": "code",
   "execution_count": 44,
   "id": "e91ede05",
   "metadata": {},
   "outputs": [
    {
     "data": {
      "text/html": [
       "<div>\n",
       "<style scoped>\n",
       "    .dataframe tbody tr th:only-of-type {\n",
       "        vertical-align: middle;\n",
       "    }\n",
       "\n",
       "    .dataframe tbody tr th {\n",
       "        vertical-align: top;\n",
       "    }\n",
       "\n",
       "    .dataframe thead th {\n",
       "        text-align: right;\n",
       "    }\n",
       "</style>\n",
       "<table border=\"1\" class=\"dataframe\">\n",
       "  <thead>\n",
       "    <tr style=\"text-align: right;\">\n",
       "      <th></th>\n",
       "      <th>title</th>\n",
       "      <th>author</th>\n",
       "      <th>text</th>\n",
       "      <th>label</th>\n",
       "    </tr>\n",
       "  </thead>\n",
       "  <tbody>\n",
       "    <tr>\n",
       "      <th>0</th>\n",
       "      <td>House Dem Aide: We Didn’t Even See Comey’s Let...</td>\n",
       "      <td>Darrell Lucus</td>\n",
       "      <td>House Dem Aide: We Didn’t Even See Comey’s Let...</td>\n",
       "      <td>1</td>\n",
       "    </tr>\n",
       "    <tr>\n",
       "      <th>1</th>\n",
       "      <td>FLYNN: Hillary Clinton, Big Woman on Campus - ...</td>\n",
       "      <td>Daniel J. Flynn</td>\n",
       "      <td>Ever get the feeling your life circles the rou...</td>\n",
       "      <td>0</td>\n",
       "    </tr>\n",
       "    <tr>\n",
       "      <th>2</th>\n",
       "      <td>Why the Truth Might Get You Fired</td>\n",
       "      <td>Consortiumnews.com</td>\n",
       "      <td>Why the Truth Might Get You Fired October 29, ...</td>\n",
       "      <td>1</td>\n",
       "    </tr>\n",
       "    <tr>\n",
       "      <th>3</th>\n",
       "      <td>15 Civilians Killed In Single US Airstrike Hav...</td>\n",
       "      <td>Jessica Purkiss</td>\n",
       "      <td>Videos 15 Civilians Killed In Single US Airstr...</td>\n",
       "      <td>1</td>\n",
       "    </tr>\n",
       "    <tr>\n",
       "      <th>4</th>\n",
       "      <td>Iranian woman jailed for fictional unpublished...</td>\n",
       "      <td>Howard Portnoy</td>\n",
       "      <td>Print \\nAn Iranian woman has been sentenced to...</td>\n",
       "      <td>1</td>\n",
       "    </tr>\n",
       "  </tbody>\n",
       "</table>\n",
       "</div>"
      ],
      "text/plain": [
       "                                               title              author  \\\n",
       "0  House Dem Aide: We Didn’t Even See Comey’s Let...       Darrell Lucus   \n",
       "1  FLYNN: Hillary Clinton, Big Woman on Campus - ...     Daniel J. Flynn   \n",
       "2                  Why the Truth Might Get You Fired  Consortiumnews.com   \n",
       "3  15 Civilians Killed In Single US Airstrike Hav...     Jessica Purkiss   \n",
       "4  Iranian woman jailed for fictional unpublished...      Howard Portnoy   \n",
       "\n",
       "                                                text label  \n",
       "0  House Dem Aide: We Didn’t Even See Comey’s Let...     1  \n",
       "1  Ever get the feeling your life circles the rou...     0  \n",
       "2  Why the Truth Might Get You Fired October 29, ...     1  \n",
       "3  Videos 15 Civilians Killed In Single US Airstr...     1  \n",
       "4  Print \\nAn Iranian woman has been sentenced to...     1  "
      ]
     },
     "execution_count": 44,
     "metadata": {},
     "output_type": "execute_result"
    }
   ],
   "source": [
    "messages.head()"
   ]
  },
  {
   "cell_type": "code",
   "execution_count": 45,
   "id": "3840a2dc",
   "metadata": {},
   "outputs": [],
   "source": [
    "# How to Perfoem Stemming on Your Data"
   ]
  },
  {
   "cell_type": "code",
   "execution_count": 62,
   "id": "55c950d3",
   "metadata": {},
   "outputs": [
    {
     "data": {
      "text/plain": [
       "'House Dem Aide: We Didn’t Even See Comey’s Letter Until Jason Chaffetz Tweeted It'"
      ]
     },
     "execution_count": 62,
     "metadata": {},
     "output_type": "execute_result"
    }
   ],
   "source": [
    "data=messages['title'][0]\n",
    "data"
   ]
  },
  {
   "cell_type": "code",
   "execution_count": 63,
   "id": "05c663be",
   "metadata": {},
   "outputs": [],
   "source": [
    "import re"
   ]
  },
  {
   "cell_type": "code",
   "execution_count": 64,
   "id": "8714d61b",
   "metadata": {},
   "outputs": [
    {
     "data": {
      "text/plain": [
       "'House Dem Aide  We Didn t Even See Comey s Letter Until Jason Chaffetz Tweeted It'"
      ]
     },
     "execution_count": 64,
     "metadata": {},
     "output_type": "execute_result"
    }
   ],
   "source": [
    "re.sub('[^a-zA-Z]',' ',data)"
   ]
  },
  {
   "cell_type": "code",
   "execution_count": 65,
   "id": "90c339e1",
   "metadata": {},
   "outputs": [
    {
     "data": {
      "text/plain": [
       "'house dem aide: we didn’t even see comey’s letter until jason chaffetz tweeted it'"
      ]
     },
     "execution_count": 65,
     "metadata": {},
     "output_type": "execute_result"
    }
   ],
   "source": [
    "data=data.lower()\n",
    "data"
   ]
  },
  {
   "cell_type": "code",
   "execution_count": 66,
   "id": "86b64a9a",
   "metadata": {},
   "outputs": [
    {
     "data": {
      "text/plain": [
       "['house',\n",
       " 'dem',\n",
       " 'aide:',\n",
       " 'we',\n",
       " 'didn’t',\n",
       " 'even',\n",
       " 'see',\n",
       " 'comey’s',\n",
       " 'letter',\n",
       " 'until',\n",
       " 'jason',\n",
       " 'chaffetz',\n",
       " 'tweeted',\n",
       " 'it']"
      ]
     },
     "execution_count": 66,
     "metadata": {},
     "output_type": "execute_result"
    }
   ],
   "source": [
    "list=data.split()\n",
    "list"
   ]
  },
  {
   "cell_type": "code",
   "execution_count": 67,
   "id": "2f0546dc",
   "metadata": {},
   "outputs": [
    {
     "name": "stdout",
     "output_type": "stream",
     "text": [
      "Requirement already satisfied: nltk in c:\\python 3.10-22\\lib\\site-packages (3.8.1)\n",
      "Requirement already satisfied: click in c:\\python 3.10-22\\lib\\site-packages (from nltk) (8.1.3)\n",
      "Requirement already satisfied: joblib in c:\\python 3.10-22\\lib\\site-packages (from nltk) (1.2.0)\n",
      "Requirement already satisfied: regex>=2021.8.3 in c:\\python 3.10-22\\lib\\site-packages (from nltk) (2022.10.31)\n",
      "Requirement already satisfied: tqdm in c:\\python 3.10-22\\lib\\site-packages (from nltk) (4.64.1)\n",
      "Requirement already satisfied: colorama in c:\\python 3.10-22\\lib\\site-packages (from click->nltk) (0.4.6)\n"
     ]
    }
   ],
   "source": [
    "!pip install nltk"
   ]
  },
  {
   "cell_type": "code",
   "execution_count": 72,
   "id": "404e162a",
   "metadata": {},
   "outputs": [
    {
     "name": "stderr",
     "output_type": "stream",
     "text": [
      "[nltk_data] Downloading package stopwords to C:\\Users\\Jayanta\n",
      "[nltk_data]     Roy\\AppData\\Roaming\\nltk_data...\n",
      "[nltk_data]   Package stopwords is already up-to-date!\n"
     ]
    },
    {
     "data": {
      "text/plain": [
       "True"
      ]
     },
     "execution_count": 72,
     "metadata": {},
     "output_type": "execute_result"
    }
   ],
   "source": [
    "import nltk\n",
    "nltk.download('stopwords')"
   ]
  },
  {
   "cell_type": "code",
   "execution_count": 73,
   "id": "0af904cb",
   "metadata": {},
   "outputs": [],
   "source": [
    "import nltk\n",
    "from nltk.stem.porter import PorterStemmer\n",
    "from nltk.corpus import stopwords"
   ]
  },
  {
   "cell_type": "code",
   "execution_count": 74,
   "id": "8913066e",
   "metadata": {},
   "outputs": [],
   "source": [
    "ps=PorterStemmer()"
   ]
  },
  {
   "cell_type": "code",
   "execution_count": 75,
   "id": "efc0a4b8",
   "metadata": {},
   "outputs": [
    {
     "data": {
      "text/plain": [
       "['housedemaidewedidntevenseecomeysletteruntiljasonchaffetztweetedit']"
      ]
     },
     "execution_count": 75,
     "metadata": {},
     "output_type": "execute_result"
    }
   ],
   "source": [
    "review=[ps.stem(word) for word in list if word not in set(stopwords.words('english'))]\n",
    "review"
   ]
  },
  {
   "cell_type": "code",
   "execution_count": 76,
   "id": "bd46c9fa",
   "metadata": {},
   "outputs": [
    {
     "data": {
      "text/plain": [
       "['housedemaidewedidntevenseecomeysletteruntiljasonchaffetztweetedit']"
      ]
     },
     "execution_count": 76,
     "metadata": {},
     "output_type": "execute_result"
    }
   ],
   "source": [
    "review=[]\n",
    "for word in list:\n",
    "    if word not in set(stopwords.words('english')):\n",
    "        review.append(ps.stem(word))       \n",
    "review"
   ]
  },
  {
   "cell_type": "code",
   "execution_count": 77,
   "id": "f00ee1d9",
   "metadata": {},
   "outputs": [
    {
     "data": {
      "text/plain": [
       "'housedemaidewedidntevenseecomeysletteruntiljasonchaffetztweetedit'"
      ]
     },
     "execution_count": 77,
     "metadata": {},
     "output_type": "execute_result"
    }
   ],
   "source": [
    "' '.join(review)"
   ]
  },
  {
   "cell_type": "code",
   "execution_count": 78,
   "id": "9833ad93",
   "metadata": {},
   "outputs": [],
   "source": [
    "corpus=[]\n",
    "sentences=[]\n",
    "for i in range(0,len(messages)):\n",
    "    review=re.sub('[^a-zA-Z]','',messages['title'][i])\n",
    "    review=review.lower()\n",
    "    list=review=review.split()\n",
    "    review=[ps.stem(word) for word in list if word not in set(stopwords.words('english'))]\n",
    "    sentences=' '.join(review)\n",
    "    corpus.append(sentences)"
   ]
  },
  {
   "cell_type": "code",
   "execution_count": 79,
   "id": "483b9be6",
   "metadata": {},
   "outputs": [
    {
     "data": {
      "text/plain": [
       "'housedemaidewedidntevenseecomeysletteruntiljasonchaffetztweetedit'"
      ]
     },
     "execution_count": 79,
     "metadata": {},
     "output_type": "execute_result"
    }
   ],
   "source": [
    "corpus[0]"
   ]
  },
  {
   "cell_type": "code",
   "execution_count": 80,
   "id": "7e3c851a",
   "metadata": {},
   "outputs": [
    {
     "data": {
      "text/plain": [
       "['housedemaidewedidntevenseecomeysletteruntiljasonchaffetztweetedit',\n",
       " 'flynnhillaryclintonbigwomanoncampusbreitbart',\n",
       " 'whythetruthmightgetyoufir',\n",
       " 'civilianskilledinsingleusairstrikehavebeenidentifi',\n",
       " 'iranianwomanjailedforfictionalunpublishedstoryaboutwomanstonedtodeathforadulteri',\n",
       " 'jackiemasonhollywoodwouldlovetrumpifhebombednorthkoreaoverlackoftransbathroomsexclusivevideobreitbart',\n",
       " 'benothamonwinsfrenchsocialistpartyspresidentialnominationthenewyorktim',\n",
       " 'abackchannelplanforukraineandrussiacourtesyoftrumpassociatesthenewyorktim',\n",
       " 'obamasorganizingforactionpartnerswithsoroslinkedindivisibletodisrupttrumpsagenda',\n",
       " 'bbccomedysketchrealhousewivesofisiscausesoutrag',\n",
       " 'russianresearchersdiscoversecretnazimilitarybasetreasurehunterinthearcticphoto',\n",
       " 'usofficialsseenolinkbetweentrumpandrussia',\n",
       " 'reyestherearepaidgovernmenttrollsonsocialmediablogsforumsandwebsit',\n",
       " 'inmajorleaguesoccerargentinesfindahomeandsuccessthenewyorktim',\n",
       " 'wellsfargochiefabruptlystepsdownthenewyorktim',\n",
       " 'anonymousdonorpaysmilliontoreleaseeveryonearrestedatthedakotaaccesspipelin',\n",
       " 'fbiclosesinonhillari',\n",
       " 'chucktoddbuzzfeeddiddonaldtrumpapoliticalfavorbreitbart',\n",
       " 'monicalewinskyclintonsexscandalsetforamericancrimestori',\n",
       " 'robreinertrumpismentallyunstablebreitbart',\n",
       " 'abortionpillordersriseinlatinamericannationsonzikaalertthenewyorktim',\n",
       " 'nukesandtheunahistorictreatytobannuclearweapon',\n",
       " 'exclusiveislamicstatesupportersvowtoshakethewestfollowingmanchesterterroristmassacrebreitbart',\n",
       " 'humiliatedhillarytriestohidewhatcameracaughtminsbeforer',\n",
       " 'andreatantarosoffoxnewsclaimsretaliationforsexharassmentcomplaintsthenewyorktim',\n",
       " 'howhillaryclintonbecameahawkthenewyorktim',\n",
       " 'chucktoddtobuzzfeedeicyoujustpublishedfakenewsbreitbart',\n",
       " 'havingwonborisjohnsonandbrexitleadersfumblethenewyorktim',\n",
       " 'texasoilfieldsreboundfrompricelullbutjobsareleftbehindthenewyorktim',\n",
       " 'bayerdealformonsantofollowsagribusinesstrendraisingworriesforfarmersthenewyorktim',\n",
       " 'russiamovestobanjehovahswitnessesasextremistthenewyorktim',\n",
       " 'rewhywearestillinthedangerzoneuntiljanuaryth',\n",
       " 'openthreadnotuselect',\n",
       " 'democratgutierrezblameschicagosgunviolenceonnrabreitbart',\n",
       " 'avoidingpeanutstoavoidanallergyisabadstrategyformostthenewyorktim',\n",
       " 'mrishowsdetailedimagesofweekunbornbabiesbreitbart',\n",
       " 'ofthebestkindsofmilkthatarentdairi',\n",
       " 'ryanlochtedroppedbyspeedousaandotherretailersthenewyorktim',\n",
       " 'conservativesurgesessionstocleanoutobamascivilrightsdivisionbreitbart',\n",
       " 'internalinquirysealedthefateofrogerailesatfoxthenewyorktim',\n",
       " 'presstvdebateduffonlebanonhezbollahandaounspresidencyvideo',\n",
       " 'samsungaftercombustiblegalaxynoteunveilsnewsmartphonethenewyorktim',\n",
       " 'polandvowsreferendumonmigrantquotaamidsteupressurethepublicsvoicewillbeheardbreitbart',\n",
       " 'sparkinganinnerrevolut',\n",
       " 'studymorethanhalfofcarcrashesinvolvedriversdistractedbycellphonesbreitbart',\n",
       " 'thetrumpelectionwillsparkmoreindividualcollectiveh',\n",
       " 'epfadetoblackjimmychurchwlauraeisenhowerrestoringthebalancevideo',\n",
       " 'cognitionandtrueislamabookreview',\n",
       " 'ifdonaldtrumpwinstheelectionitwillbethebiggestmiracleinuspoliticalhistori',\n",
       " 'mindfuleatingaswaytofightbingeingthenewyorktim',\n",
       " 'themajorpotentialimpactofacorporatetaxoverhaulthenewyorktim',\n",
       " 'iwonderwhatglpwillbelikethedayaftertheelect',\n",
       " 'makersofworldssmallestmachinesawardednobelprizeinchemistrythenewyorktim',\n",
       " 'massiveantitrumpprotestsunionsquarenyclivestream',\n",
       " 'reviewlionbringstearsforalostboywipeddrybygooglethenewyorktim',\n",
       " 'usgeneralislamicstatechemicalattackhadnoimpactonusforc',\n",
       " 'juryfindsalloregonstandoffdefendantsnotguiltyoffederalconspiracyguncharg',\n",
       " 'clintoncampaignstunnedasfbireportedlyreopensprobeintohillaryclintonemail',\n",
       " 'pencewillspeakatantiabortionrallythenewyorktim',\n",
       " 'berniesanderssayswhatthemediawonttrumpisagutlesspoliticalcoward',\n",
       " 'howtomakebriquettesfromdailywast',\n",
       " 'treasonnytvowsrededicationtoreport',\n",
       " 'dresslikeawomanwhatdoesthatmeanthenewyorktim',\n",
       " 'atellabrennanstillfeedsandleadsneworleansthenewyorktim',\n",
       " 'pressingasiaagendaobamatreadslightlyonhumanrightsthenewyorktim',\n",
       " 'democratshaveapercentchancetoretakethesenatethenewyorktim',\n",
       " 'judgespankstransgenderobsessedobamayoulieredflagnew',\n",
       " 'usdiplomatsurgestrikesagainstassadinsyriathenewyorktim',\n",
       " 'frankencallsforindependentinvestigationintotrumpsputincrushbreitbart',\n",
       " 'louisianasimonebilesuspresidentialraceyourtuesdayeveningbriefingthenewyorktim',\n",
       " 'turkeythreatenstoopenmigrantlandpassagetoeuropeafterrowwithdutch',\n",
       " 'humasweinerdogshillari',\n",
       " 'colinkaepernickstartsblackpantherinspiredyouthcampwow',\n",
       " 'trumpsimmigrationpoliciesexplainedthenewyorktim',\n",
       " 'marytylermooreismournedbydickvandykeandotherstarsthenewyorktim',\n",
       " 'poison',\n",
       " 'trumpfansrallyacrossthenationtosupportthepresidentthenewyorktim',\n",
       " 'foxbizreportercanthelpbutbashclintonsrallyaftercoveringtrumpspackedeventdaybefor',\n",
       " 'fictionpodcastsworthalistenthenewyorktim',\n",
       " 'mikebirbigliastipsformakingitsmallinhollywoodoranywherethenewyorktim',\n",
       " 'investmentstrategistforecastscollapsetimelinethelastgaspofthiseconomiccyclewillcomein',\n",
       " 'venezuelamuzzleslegislaturemovingclosertoonemanrulethenewyorktim',\n",
       " 'whetheritsjohnmccainmittromneyordonaldtrumpdemocratsalwaysrunwaronwomentactictodestroytherepublicancandid',\n",
       " 'breitbartnewsdailytrumpboombreitbart',\n",
       " 'whitehouseconfirmsmoregitmotransfersbeforeobamaleavesoffic',\n",
       " 'pollmostvotershavenotheardofdemocraticelectioncandidatesbreitbart',\n",
       " 'migrantsconfrontjudgmentdayoverolddeportationordersthenewyorktim',\n",
       " 'mitnyuandyalearesuedoverretirementplanfeesthenewyorktim',\n",
       " 'technocracytherealreasonwhytheunwantscontrolovertheinternet',\n",
       " 'americandriversregainappetiteforgasguzzlersthenewyorktim',\n",
       " 'hillaryclintonbuildsmillionwarchestdoublingdonaldtrumpthenewyorktim',\n",
       " 'trumpcatcheswhatsickreportersnuckininterviewhaspricelessrespons',\n",
       " 'allsenatorscontactedrussiangovernmentthisweek',\n",
       " 'imagesthatperfectlyillustratethestruggleagainstthedakotaaccesspipelin',\n",
       " 'washingtonstatetakesrefugeesmuslimrestofcountrytakesrefugeesmuslimbreitbart',\n",
       " 'ncaabigkeepswatchfuleyeontexasbathroombillbreitbart',\n",
       " 'massiveespnfinancialsubscriberlossesdragdowndisneysfirstquartersalesbreitbart',\n",
       " 'megynkellycontractsettoexpirenextyearisprimedforthebigshowthenewyorktim',\n",
       " 'teachersuspendedforallowingstudentstohittrumppinataforcincodemayo',\n",
       " 'breakingtrumpexpressedconcernoveranthonyweinersillegalaccesstoclassifiedinfomonthsagotruthfe',\n",
       " 'snapsharesleapindebutasinvestorsdoubtvaluewillvanishthenewyorktim',\n",
       " 'clintoncampaignchairhaddinnerwithtopdojofficialonedayafterhillarysbenghazihear',\n",
       " 'tvseriesaboutfirstfemalemlbpitchercannedafteronelowratedseasonbreitbart',\n",
       " 'seekingbestfitwomensfinalfourreturnstofridaysundaythenewyorktim',\n",
       " 'aproposalforacanadiannationalbirdrufflesfeathersthenewyorktim',\n",
       " 'reviewbeyoncmakeslemonadeoutofmaritalstrifethenewyorktim',\n",
       " 'trumptoaskforsharpincreasesinmilitaryspendingofficialssaythenewyorktim',\n",
       " 'whyisthisnotwatergatesmokinggunemailsdiscusscleaningupobamahillaryemail',\n",
       " 'chapotraphousenewleftwingpodcastisaflagrantripoffoftherightstuff',\n",
       " 'taiwanrespondsafterchinasendscarriertotaiwanstraitthenewyorktim',\n",
       " 'themotherofalloctobersurpriseswhythehouseofcardswillnowcometumblingdown',\n",
       " 'explosiveassangepilgerinterviewonuselectionexpectriotsifhillarywin',\n",
       " 'telescopethatateastronomyisontracktosurpasshubblethenewyorktim',\n",
       " 'closedafghanpakistaniborderisbecominghumanitariancrisisthenewyorktim',\n",
       " 'tvanchorsarriveatthewhitehouseforlunchwithdonaldtrumpbreitbart',\n",
       " 'pelosirepublicansshouldtelltrumphesbringingdishonortothepresidencybreitbart',\n",
       " 'thebeautifulprehistoricworldisearthnowawasteland',\n",
       " 'iignoredtrumpnewsforaweekhereswhatilearnedthenewyorktim',\n",
       " 'donaldtrumpunveilsplanforfamiliesinbidforwomensvotesthenewyorktim',\n",
       " 'montanademocratsvoteagainstbillbanningsharialawcallitrepugnantbreitbart',\n",
       " 'themonsantotribunalisoverhowdiditgoandwhathappensnow',\n",
       " 'itsofficialsimonebilesistheworldsbestgymnastthenewyorktim',\n",
       " 'itliterallyhurtsmybraintoreadtheeconomicidiocyemittedbytrumpkinslibertarian',\n",
       " 'unsecretarygeneralcomplainsthatthemasseshaverejectedglobalisminfavorofnation',\n",
       " 'trumpbollywoodadmeanttoswayindianamericanvotersisanhilariousfailvideo',\n",
       " 'fbifindspreviouslyunseenhillaryclintonemailsonweinerslaptop',\n",
       " 'yearsafterthisamericanjournalistwaskilledherconspiracytheoriesonsyriaareprovenasfact',\n",
       " 'reportillegalaliensforegofoodstampstostayofftrumpsradar',\n",
       " 'makenetherlandsgreatagainhahahaitsspreadingworldwid',\n",
       " 'fourkilledinjuredinjerusalemtruckrammingterrorattack',\n",
       " 'theleadersalutescomradenewtonbrutalmegynsickellybeatdownwedontplaygam',\n",
       " 'studentsatblackcollegejustgotbeatenandmacedforprotestingkkksdavidduk',\n",
       " 'despitestrictguncontrolonechildoryouthshoteverydayinontario',\n",
       " 'theriseoftheinternetfanbullythenewyorktim',\n",
       " 'anewlyvibrantwashingtonfearsthattrumpwilldrainitsculturethenewyorktim',\n",
       " 'fedholdsinterestratessteadyandplansslowerincreasesthenewyorktim',\n",
       " 'thebattleatunesco',\n",
       " 'thelatesttestforthewhitehousepullingoffitseastereggrollthenewyorktim',\n",
       " 'burlesquedancerfiredinvestigatedbysecretservicefortrumpassassinationtweetbreitbart',\n",
       " 'whattheclintonsdidtoha',\n",
       " 'forcuomoandchristieparallelpathstothetopandtroublewhentheygottherethenewyorktim',\n",
       " 'thetopplacesintheworldyourenotallowedtovisit',\n",
       " 'newstudylinksfluorideconsumptiontohypothyroidismweightgainandwors',\n",
       " 'jamesmattisisasecretaryofoffens',\n",
       " 'ablackchurchwasjustburnedandspraypaintedvotetrump',\n",
       " 'searsagreestosellcraftsmantostanleyblackampdeckertoraisecashthenewyorktim',\n",
       " 'takatachiefexecutivetoresignasfinancialpressuremountsthenewyorktim',\n",
       " 'goodbyeforgoodtoblacksabbaththenewyorktim',\n",
       " 'teengeishadollsgangbustedforarmedrobberiesbreitbart',\n",
       " 'mohamadkhweisanothervirginiamanpalestinianamericanmuslimchargedwithterror',\n",
       " 'priceonobamacarereplacementnobodywillbeworseofffinanciallybreitbart',\n",
       " 'vafailstoproperlyexaminethousandsofveteran',\n",
       " 'trumpfamilyalreadysworntosecrecyaboutfakedmoonlandingsmoresoon',\n",
       " 'sportswriternflgreatjimbrownsdecadesofcivilrightsworkiserasedforsayingnicethingsaboutdonaldtrumpbreitbart',\n",
       " 'icanwatchitontvexcusesforrepublicansskippingadonaldtrumpconventionthenewyorktim',\n",
       " 'thisopenlettertotrumpvotersjusttolditlik',\n",
       " 'commentonthispowerfulcorporatelobbyisquietlybackinghillaryandnobodystalkingaboutitbyrunsinquicksand',\n",
       " 'hijackingendspeacefullyafterlibyanairlinerlandsinmaltathenewyorktim',\n",
       " 'youdontlikethegirlsingirlsthatsitsgeniusthenewyorktim',\n",
       " 'scientistssaycanadianbacteriafossilsmaybeearthsoldestthenewyorktim',\n",
       " 'progovernmentforcesadvanceinsyriaamidtalkofusrussiacooperationthenewyorktim',\n",
       " 'whocanceragencyunderfireforwithholdingcarcinogenicglyphosatedocu',\n",
       " 'workwalkminutesworkthenewyorktim',\n",
       " 'steveharveytalkshousingwithpresidentelecttrumpthenewyorktim',\n",
       " 'coalitionustroopsfightinginmosuloffensivecomeunderfir',\n",
       " 'ukcitizensandwarheroesgetcheapprefabhouseswhilemuslimcolonizersgettaxpayerfundedluxuriouscouncilhom',\n",
       " 'aftervetsfightwarfedsdemandmoneybackbutillegalsandrefugeescankeeptheirmoney',\n",
       " 'mrtrumpswildridethenewyorktim',\n",
       " 'hereishowfbidirectorcomeybamboozledthedojcongressandtheclintonsallatonc',\n",
       " 'foodsthatnaturallyunclogarteriesandpreventheartattack',\n",
       " 'deathofthetwostatesolut',\n",
       " 'commentonparentsonadatewereasleepincarwhencopsarrivedandkilledthembothbyfacespac',\n",
       " 'donaldtrumpsteamshowsfewsignsofpostelectionmoderationthenewyorktim',\n",
       " 'miamibeachtriestotameitsmostraucousstreetbutthefishbowldrinkscanstaythenewyorktim',\n",
       " 'doctorsmysteriouslyfounddeadaftersummitforbreakthroughcureforcanc',\n",
       " 'donaldtrumptheunsinkablecandidatethenewyorktim',\n",
       " 'shockingnewmockhillaryadcampaignwarnsshelltakeustowarenlistforherfightforherdieforh',\n",
       " 'exclusivefamilyofslainborderpatrolagentbrianterrysaysericholderamongtherealcriminalsrespons',\n",
       " 'trumptellsreporterswallsworkjustaskisraelbreitbart',\n",
       " 'willamericasurvivethenextyear',\n",
       " 'commissionerstartstopressclevelandindiansaboutlogothenewyorktim',\n",
       " 'theunplanstoimplanteveryonewithabiometricidthisisnotadril',\n",
       " 'trumpattackssenatorscredibilityovergorsuchscommentsthenewyorktim',\n",
       " 'clintonadvisorlosesitinleakedemailoverhillarysillegalact',\n",
       " 'artlafferpaulryansjustaboutperfectrightnowbreitbart',\n",
       " 'howdonaldtrumpwillbeblamedforeconomiccrash',\n",
       " 'pokemongoplayersareinadvertentlystoppingpeoplecommittingsuicideinjapan',\n",
       " 'californiasenateraceisataleofdiversityandaflailinggopthenewyorktim',\n",
       " 'exclusivesourcesaysmegynkellywouldnotbewelcomedbackatfoxnew',\n",
       " 'inbreakwithprecedentobamaenvoysaredeniedextensionspastinaugurationdaythenewyorktim',\n",
       " 'howwillbrexitvotegomontypythonmayoffercluethenewyorktim',\n",
       " 'blindmysticwhopredictedhasbadnewsabouttrump',\n",
       " 'totalvettingfailleftwingsnowdenfangirlrealitywinnergetsaccesstoournsasecret',\n",
       " 'insomaliausescalatesashadowwarthenewyorktim',\n",
       " 'freecareablessingforvictimsoforlandonightclubattackthenewyorktim',\n",
       " 'themostdurablydemocraticcountyinthecountrycouldgofortrump',\n",
       " 'fedschallengeafterraisingratesmaybeexistentialthenewyorktim',\n",
       " 'russiahasnointentionofattackinganyonethisisabsurdsaysvladimirputin',\n",
       " 'faainvestigateserrantflightinvolvingharrisonfordthenewyorktim',\n",
       " 'fedraiseskeyinterestratecitingstrengtheningeconomythenewyorktim',\n",
       " 'laexpresinnolosiguienteyaeslamsutilizadanolosiguienteenelcastellano',\n",
       " 'astrumpberatesnewsmediaanewstrategyisneededtocoverhimthenewyorktim',\n",
       " 'usdronestriketargetstalibanleaderthenewyorktim',\n",
       " 'usintelligenceexpectalqaedaattacksmondayinnewyorkvirginiaandtexa',\n",
       " 'whatifitoldyoucannabisisgreatforreversingalzheim',\n",
       " 'reportmegynkellytokickoffnbcshowwithkardashianfamilyinterview',\n",
       " 'yourlocalpercentersmaynotbeasrichasyouthinkthenewyorktim',\n",
       " 'drdaviddukewithmarkcollettoftheukcollettexplainswhyduketrumpvictorieswouldchangepoliticsforev',\n",
       " 'instatementtosenatewellsfargochiefisdeeplysorrythenewyorktim',\n",
       " 'cnnstatementdistancesnetworkfrombuzzfeedfakenewsdossierbreitbart',\n",
       " 'ceosponderanewgamewithtrumpsrulesthenewyorktim',\n",
       " 'spiceronbradysstolenjerseyanotherbadonthepressbreitbart',\n",
       " 'ascaredycatsinvestigationintowhypeopleenjoyfearthenewyorktim',\n",
       " 'theleftsvis',\n",
       " 'showdownloomsasusquestionschinesedealforgermanchipdesignerthenewyorktim',\n",
       " 'trumpadministrationtotakehardertackontradewithchinathenewyorktim',\n",
       " 'pewamericantrustlevelinfederalgovernmentplummetstohistoriclowsbreitbart',\n",
       " 'islamicstatesupportingformernationalguardsmanpleadsguiltytoterrorismchargeinvirginia',\n",
       " 'spicertoreporterweregoingtoraiseourhandslikebigboysandgirlsbreitbart',\n",
       " 'leadersapplaudgorsuchconfirmationaswinforprolifemov',\n",
       " 'newstick',\n",
       " 'frenchvoguesmarchcoverfeaturesatransgendermodelthenewyorktim',\n",
       " 'trumpveersfrompartylineonguncontrolthenewyorktim',\n",
       " 'howtheoligarchyhaspreparedthegroundworkforstealingtheelect',\n",
       " 'yahaymsreencuentrosdeoperacintriunfoqueedicionesdeoperacintriunfo',\n",
       " 'atchatsworthhouseataleoffivecenturiesthenewyorktim',\n",
       " 'theuncomfortableloveaffairbetweendonaldtrumpandthenewenglandpatriotsthenewyorktim',\n",
       " 'johnmccainwithdrawssupportfordonaldtrumpafterdisclosureofrecordingthenewyorktim',\n",
       " 'thestrangeunendinglimboofegyptshosnimubarakthenewyorktim',\n",
       " 'povertyroseinofushousedistrictsduringobamaspresid',\n",
       " 'humaabedinseeksfbiimmunityd',\n",
       " 'asinglemomescapesthefriendzoneonenondateatatimethenewyorktim',\n",
       " 'boeingsuitsupforfutureofspaceflightwithnewspacesuitdesignbreitbart',\n",
       " 'trumpfloatsanolivebranchmightkeeppartsofthehealthlawthenewyorktim',\n",
       " 'wapotriestocompareelizabethwarrenbreakingsenaterulestomilobeingshutdownbyviolentriotbreitbart',\n",
       " 'acrumpledschoolbusleaveschattanoogadazedthenewyorktim',\n",
       " 'shediedandcamebacktolifewiththisincrediblemessageforhuman',\n",
       " 'howthefightforanationalafricanamericanmuseumwaswonthenewyorktim',\n",
       " 'fatherofmanchestersuicidebomberarrestedinlibyabreitbart',\n",
       " 'secretsabouttruelead',\n",
       " 'muslimsdemandlocalsdontwalkdogsinpublicviolationofshariaanddisrespectsthem',\n",
       " 'hillarycampaignnowinbedwithpacstaffthatdonatedktofbiagentswifeafterinvestig',\n",
       " 'stillnotovertheyaretryingtofliptheelectoralcollegetoblocktrumpswin',\n",
       " 'alsharptontodemsnopointappealingtoarchiebunkertrumpvotersbreitbart',\n",
       " 'doyouthinktherewillbeasmanydoomsayersiftrumpshouldgetinoffic',\n",
       " 'democratsjumponsessionsresignationbandwagonbreitbart',\n",
       " 'altrightarchitectglennbeckopensfireonaltrightgravethreattotherepublicaudiotweet',\n",
       " 'morepoliticizedjusticetoprotecthillari',\n",
       " 'northcarolinasaturatedandsurprisedreelsfromhurricanematthewthenewyorktim',\n",
       " 'thelivestheylovedsubmityourmemoriesthenewyorktim',\n",
       " 'achievingmindfulnessatworknomeditationcushionrequiredthenewyorktim',\n",
       " 'worldsfirstzeroemissionshydrogenpoweredpassengertrainunveiledingermani',\n",
       " 'confusedbychipcreditcardsgetinlinethenewyorktim',\n",
       " 'brookstrumpsidingwithaforeignleaderagainsttheuspresidentonisraelandrussiabreitbart',\n",
       " 'therestoxicairinyourhomeandthisisyoucangetridofitnatur',\n",
       " 'aconnecticutreaderreportsrecordvoterregistrationinspiredbytrump',\n",
       " 'germanyreactstomerkeltrumpvisitcouldhavebeenalotworsethenewyorktim',\n",
       " 'justinroseoutduelshenrikstensonforgolfgoldmedalthenewyorktim',\n",
       " 'icelandswatercurethenewyorktim',\n",
       " 'mtashortensltrainshutdowntomonthsthenewyorktim',\n",
       " 'whattimewillthepresidencybedecidedthenewyorktim',\n",
       " 'unreliefofficialcallscrisisinaleppotheapexofhorrorthenewyorktim',\n",
       " 'afterberkeleytreattheviolentantispeechleftlikethekkk',\n",
       " 'statisticalpropagandahowmanysyrianshasusregimechangekil',\n",
       " 'whyselfhelpgurujamesaltucheronlyownsthingsthenewyorktim',\n",
       " 'trumpsreligiouslibertyordergivessessionsmajorleewaybreitbart',\n",
       " 'demoledoramparocontrasalgadokeikoycongresistasm',\n",
       " 'ineraoftrumpchinaspresidentchampionseconomicglobalizationthenewyorktim',\n",
       " 'thesadsagaofjohnwalkerlindhrebelwithoutaclu',\n",
       " 'courtsdisagreeovermichiganvoterecountthenewyorktim',\n",
       " 'berniesanderssfeudwiththedemocraticleadershipheatsupthenewyorktim',\n",
       " 'theshortestandmostpowerfulexplanationoftrumpsvictoryihaveeverseen',\n",
       " 'russialookstopopulateitsfareastwimpsneednotapplythenewyorktim',\n",
       " 'thejohnsonamendmentwhichtrumpvowstodestroyexplainedthenewyorktim',\n",
       " 'donaldtrumptomarchforlifeyouhavemyfullsupport',\n",
       " 'policeofficialfounddeadonlongislandandsuicideissuspectedthenewyorktim',\n",
       " 'radicalchangesareinstorefortheworldandglobalmarketsareyoureadi',\n",
       " 'whatitsliketomakeitinshowbizwithyourbestfriendthenewyorktim',\n",
       " 'trumpnominatesneilgorsuchtothesupremecourtthenewyorktim',\n",
       " 'bidderscastdoubtonseriousnessofmexicanborderwallproject',\n",
       " 'whatsatstakeintheuselect',\n",
       " 'israelapprovesadditionalfundingforsettlementsinwestbankthenewyorktim',\n",
       " 'txgovabbottiwillsignlegislationthatcouldputsheriffsofsanctuarycitiesinjailbreitbart',\n",
       " 'donaldtrumpholdsthankyourallyincincinnatiandannounceshispickfordefensesecretarythenewyorktim',\n",
       " 'somelawmakersnowlooktobipartisanshiponhealthcarethenewyorktim',\n",
       " 'insidetheconservativepushforstatestoamendtheconstitutionthenewyorktim',\n",
       " 'donaldtrumptellsnrahillaryclintonwantstoletviolentcriminalsgofreethenewyorktim',\n",
       " 'popefrancistrumpjapanyourtuesdaybriefingthenewyorktim',\n",
       " 'mayorsstandalldaytoutssupportforillegalimmigr',\n",
       " 'trumpscampaignforcelebr',\n",
       " 'democratsdragoutjeffsessionsconfirmationfightbreitbart',\n",
       " 'breakingnewspodestabrotherspedoringmrtrumpdraintheswampvtheguerrillaeconomist',\n",
       " 'lasfrasesmsdestacadasdeldebatedeinvestidura',\n",
       " 'confusingjihadwithhirabahwontbuildamorepeacefulworld',\n",
       " 'lazyliberaljournalistssmearbannon',\n",
       " 'australiawillclosedetentioncenteronmanusislandbutstillwontacceptasylumseekersthenewyorktim',\n",
       " 'politicohillaryclintonisrunningagainbreitbart',\n",
       " 'giantlynxmakesthemostadorablesoundwheneverhishumanrubshisfac',\n",
       " 'minnesotacopfoundnotguiltyinphilandocastileshootingtri',\n",
       " 'millionamericanskilledinminut',\n",
       " 'waynemadsentheciahasalwaysservedtheinterestsofwallstreet',\n",
       " 'novemberdailycontrarianread',\n",
       " 'flashbackreportsobamascampaignrepstalkedwithiranhama',\n",
       " 'lesseroftwoevil',\n",
       " 'ayacashthefirsttimeiateavegetableiwasthenewyorktim',\n",
       " 'trumpadvisersaysisraelisettlementsnotilleg',\n",
       " 'serenawilliamsprevailsinopenernoproblemthenewyorktim',\n",
       " 'soulmansammoorehonoredtoperformattrumpinaugur',\n",
       " 'willferrelljustcamebackasbushtodestroytrumpvideo',\n",
       " 'chinesegovernmentnotconcernedwithtoughtalkfromtrumpcabinetbreitbart',\n",
       " 'billionaireisreportedseizedfromhongkonghotelandtakenintochinathenewyorktim',\n",
       " 'easytoknowwhatisuplink',\n",
       " 'ahomebodyfindstheultimatehomeofficethenewyorktim',\n",
       " 'anncoulterunloadsonpaulryansdeeplyunpopularobamacarebillbreitbart',\n",
       " 'transgenderbathroomdebateturnspersonalatavermonthighschoolthenewyorktim',\n",
       " 'whyobamaandhillarywantedlibyasgaddafitoppledandkil',\n",
       " 'alertformersorosassociatejustwarnedtheproshaveitwronggoldsilverwillskyrocketliketh',\n",
       " 'ishillarypanickingoverthefbiandweineremail',\n",
       " 'inchaoticminutestrumpdefendsfinetunedmachinethenewyorktim',\n",
       " 'onepoliceshiftpatrollingananxiousamericathenewyorktim',\n",
       " 'fightingghostfascistswhileaidingrealon',\n",
       " 'yourmondayeveningbriefingbrexitabortiongameofthronesthenewyorktim',\n",
       " 'euincreasesbrexitbilldemandtobillionupfrombillion',\n",
       " 'ariannahuffingtonssleeprevolutionstartsathomethenewyorktim',\n",
       " 'iranianmissileaccidentallydestroysiranianshipaimedforsyria',\n",
       " 'sonomacountycaliforniajustvotedtocreatethelargestgmofreezoneinamerica',\n",
       " 'fbiscomeywikileaksisintelligencepornnotjournalismbreitbart',\n",
       " 'clarewaightkellerisnamedfirstfemaledesignerofgivenchythenewyorktim',\n",
       " 'realitiesfacedbyblackcanadiansareanationalsham',\n",
       " 'topnfldraftprospectcalebbrantleychargedwithpunchingawomaninthefacebreitbart',\n",
       " 'videosonthepacificcresttrailassociationandthelavoyfinicimmurd',\n",
       " 'lifelessonsfromamanwhosseendeath',\n",
       " 'trumpandgopworktowinrepealofobamashealthactthenewyorktim',\n",
       " 'atlanticsgoldbergimnotconfidenttrumpcanhandlemattersoflifeanddeathbreitbart',\n",
       " 'whythisorthodoxrabbisupportstrump',\n",
       " 'nucleartensionsbetweenusrussiareachdangerouspoint',\n",
       " 'gambiajoinssouthafricaandburundiinexodusfrominternationalcriminalcourt',\n",
       " 'peytonmanninggolfedwithpresidenttrumponsunday',\n",
       " 'obamaurgesdonaldtrumptosendsignalsofunitytominoritygroupsandwomenthenewyorktim',\n",
       " 'itslikeamiraclewomangivesbirthusingovaryfrozensincechildhoodthenewyorktim',\n",
       " 'uconnsrecipeforsuccessistorunrunandrunsomemorethenewyorktim',\n",
       " 'assangefinallyaffordedopportunitytogivestatementoverrapeaccus',\n",
       " 'hillaryspuppetshowsjusthowmuchhillarycaresaboutgodwithomissionofword',\n",
       " 'thestockmarkethasgonesohighitsaproblemthenewyorktim',\n",
       " 'johnkerryrejectssuggestionsofusinvolvementinturkeycoupthenewyorktim',\n",
       " 'trumpaidestephenmillertheushasanabsolutesovereignrighttodeterminewhocanandcannotenterthecountrybreitbart',\n",
       " 'yearoldrussiangirlspeakslanguageshowdidshedothi',\n",
       " 'thispowerfulcorporatelobbyisquietlybackinghillaryandnobodystalkingaboutit',\n",
       " 'maintainingasunnyspiritinthefaceofhardshipthenewyorktim',\n",
       " 'rushlimbaughcomeyfiringanepictrollbytrumpondemsbreitbart',\n",
       " 'twittersuesthegovernmenttoblocktheunmaskingofanaccountcriticaloftrumpthenewyorktim',\n",
       " 'warriorsresilientathomecruiseagainstthecavaliersthenewyorktim',\n",
       " 'comeyletteronclintonemailissubjectofjusticedeptinquirythenewyorktim',\n",
       " 'spainmaltaunderusukpressurerefusetoallowrussiancarriergrouptorefuelintheirport',\n",
       " 'reviewinradioheadsamoonshapedpoolpatientperfectionismthenewyorktim',\n",
       " 'thisisthemanmilitarizedpoliceatstandingrockareworkingfor',\n",
       " 'womanarrestedonownpropertyafterherlandwasstolenbydapl',\n",
       " 'pulitzerprizesnewyorktimeswinsdailynewsandpropublicasharepublicserviceawardthenewyorktim',\n",
       " 'thevanquishedtowitnessthetakeoverbushesclintonswillattenddonaldtrumpsinaugurationbreitbart',\n",
       " 'speculationoverpossibleobamapardonofedwardsnowdenbowebergdahlandchelseamanningbreitbart',\n",
       " 'cheesymashedpotatoesforthesoulthenewyorktim',\n",
       " 'unprincipledwapoeditorsdamnedcomeycriticsnowjointhem',\n",
       " 'anationwreckedbyimmigrationacivilwarisbrewingasdogoodingswedesturnagainstmuslimmigrantsviolencerapesandmurd',\n",
       " 'manshotdeadbyofficerhadacrucifixnotagunpolicesaythenewyorktim',\n",
       " 'exclusiverepjimjordanontrumpsfirstdaysithinkwereofftoagreatstartbreitbart',\n",
       " 'haleyattackonsyriaoneofthepresidentsfinesthoursbreitbart',\n",
       " 'justinbieberdefecatesonadoringirishfansfromhotelwindow',\n",
       " 'whocanceragencyunderfireforwithholdingcarcinogenicglyphosatedocu',\n",
       " 'giannocaldwellclaimshillaryonlycaresaboutblackvotenotblackl',\n",
       " 'isisusesramadanascallingfornewterroristattacksthenewyorktim',\n",
       " 'dailyshowmocksmahatmablondiemegynkellysnbcdebut',\n",
       " 'healthcarebillsfailurejustpartoftheartofthedealbreitbart',\n",
       " 'lewandowskicomeyaliarlookingtosignmajorbookdealbreitbart',\n",
       " 'kimberlyguilfoylediscussespotentialwhitehousepresssecretaryjobininterview',\n",
       " 'clintonscampaignchairmanjohnpodestainvitedtoanoccultspiritcookingdinnerbymarinaabramovi',\n",
       " 'howtheobamacoalitioncrumbledleavinganopeningfortrumpthenewyorktim',\n",
       " 'pregnancychangesthebraininwaysthatmayhelpmotheringthenewyorktim',\n",
       " 'femaopensloanwindowasredcrosstriestoshutdownshelt',\n",
       " 'gaiaportalinterwebsofgaiaenergeticsarestrengthen',\n",
       " 'scarboroughtrumppoopshispantscallsitmodernartbreitbart',\n",
       " 'whencookinginvesttimeorworknotboththenewyorktim',\n",
       " 'badnewsforjacksonfamilyaswomanleaksstarssickksexsecret',\n",
       " 'gorsuchlondonrepublicanpartyyourthursdayeveningbriefingthenewyorktim',\n",
       " 'emmamoranolastpersonborninsdiesbreitbart',\n",
       " 'loserpaloozacraziestscenesfromantitrumpprotestsbreitbart',\n",
       " 'whatdoesatrumpvictorymeanforafrica',\n",
       " 'visionsoflifeonmarsinearthsdepthsthenewyorktim',\n",
       " 'afterobamacancelstalkrodrigoduterteofphilippinessaysheregretsslurthenewyorktim',\n",
       " 'newjerseywillincreasegastaxendinglongpoliticalstalematethenewyorktim',\n",
       " 'abcmanchesterattacklikelytoinflameantiislamicsentimentbreitbart',\n",
       " 'hiddeninplainsighttheglobaldepopulationagenda',\n",
       " 'thejobsamericansdothenewyorktim',\n",
       " 'sandersasksobamatointerveneindakotaaccesspipelinedisput',\n",
       " 'googleaddsjobssectiontosearchengineincludingemployerratingsbreitbart',\n",
       " 'cryingjordanthememethatjustwontdiethenewyorktim',\n",
       " 'demrepsncheztrumphasusedfearofmuslimsandimmigrantstopromotepoliciesthatundermineourvaluesbreitbart',\n",
       " 'announcementbythesakercommunityaboutthegermansakerblogthevineyardofthesak',\n",
       " 'shootingvictimsfamilieswatchasgunmeasuresstallonceagainthenewyorktim',\n",
       " 'imagesrevealcrashedschiaparellimarsland',\n",
       " 'grassrootscoalitionsharesmanyquestionsandconcernsaboutbetsydevoswithsen',\n",
       " 'octoberdailycontrarianread',\n",
       " 'trumpatinauguralballsnowtheworkbeginswearenotplayinggamesbreitbart',\n",
       " 'trumpschoiceofstephenbannonisnodtoantiwashingtonbasethenewyorktim',\n",
       " 'mediaoutrageoverwhitehouseexclusionisfakenewsbreitbart',\n",
       " 'bennymorrissuntenabledenialoftheethniccleansingofpalestin',\n",
       " 'obamahillaryclintonpardoncouldhealdividedn',\n",
       " 'exceptionalhandl',\n",
       " 'notaconceptualparalapresidenciaderusia',\n",
       " 'responseofphilippinespresidenttofatalblastraisesfearsthenewyorktim',\n",
       " 'davidadjayeondesigningamuseumthatspeaksadifferentlanguagethenewyorktim',\n",
       " 'bulletintherearerighteousjewsfortrumpruleorruinforgopestablishmentetcitem',\n",
       " 'britainreducesterrorlevelonenotchtosevereafterterrorcellarrest',\n",
       " 'muteandalonehewasnevershortofkindwordsorfriendsthenewyorktim',\n",
       " 'iranianmilitarycommanderclaimsroguenationsendingelitefighterstoinfiltratetheusandeurop',\n",
       " 'noaccountfory',\n",
       " 'watchmuslimstudentclaimsthatnonbelieverswillbekilledinislamiccountriesbreitbart',\n",
       " 'yemenandyetanotherfalseflagtoprotectsaudiandusinterestsinthemiddleeastneweasternoutlook',\n",
       " 'watchmuslimpalestiniansdeclarewefollowourprophetmuhammadwewillkillallchristiansandjew',\n",
       " 'streetdogsofkeralacalluponsuperdogkryptotorescuethemfromhuman',\n",
       " 'israeltrackedantigovernmentjournalistsonfacebook',\n",
       " 'newalaskalawtakingfirststepagainstcommoncor',\n",
       " 'keybaylorfootballexecutivedemarkobutlerfiredintextingscandalbreitbart',\n",
       " 'calgaryairportarrivalsyyc',\n",
       " 'georgemichaelwrestledwithfamefranksinatrahadsomeadvicethenewyorktim',\n",
       " 'sharonoldslaureateofsexualityscrutinizesthebodyinodesthenewyorktim',\n",
       " 'bluecollarelectionshocksliberalmedia',\n",
       " 'theywillhavetodienowthenewyorktim',\n",
       " 'policefirerubberbulletsatpipelineprotest',\n",
       " 'anncoulterhitssupposedgayiconkathygriffinonisiscribbedant',\n",
       " 'contaminatedfoodfromchinanowenteringtheusundertheorganiclabel',\n",
       " 'tenfamouspeopleonwhattoreadthissummerthenewyorktim',\n",
       " 'hillaryclintonknewyearsagoanthonyweinerwasapedophilewikileak',\n",
       " 'amillionstairwaytonowhereonthefarwestsidethenewyorktim',\n",
       " 'cyberwarfromtrifletocatastropheinform',\n",
       " 'presidentputinasksustostopprovokingrussia',\n",
       " 'inquiriesclouddeblasiosbidtocomeoffasstrongmanagerbeforeracethenewyorktim',\n",
       " 'usdronestrikeinafghanistankillswoundsseveralcivilian',\n",
       " 'bobbyhutchersonvibraphonistwithcoloristicrangeofsounddiesatthenewyorktim',\n",
       " 'amnestyadvocatesboycottagencymeetingswhenproamericanadvocatesareinvitedbreitbart',\n",
       " 'projectveritasrobertcreamersillegalforeignwiretransfercaughtontap',\n",
       " 'exflotusmichelleobamatrumpwantstofeedcraptoyourkid',\n",
       " 'southsudanslidesclosertowarasgunfirerumblesinitscapitalthenewyorktim',\n",
       " 'nationalmoodfocusgroupreflectsangrydividedamerica',\n",
       " 'bankruptpuertoricovotingonusstatehoodbreitbart',\n",
       " 'overwhelmedbybrexitherearethebasicsthenewyorktim',\n",
       " 'seattlesgaymayoraccusedofsexuallymolestingteensinthesbreitbart',\n",
       " 'genderfluidityontherunwaysthenewyorktim',\n",
       " 'usnatotoattackputinmilitarydrillsinrussiaworldwarredalertkopya',\n",
       " 'newclintonemailscamefromunderagesexpestanthonywein',\n",
       " 'inamontanabearattacklessonsonhopesurvivalandfirstaidthenewyorktim',\n",
       " 'whatisbestaboutamericathenewyorktim',\n",
       " 'thepecanstepsoffthepieplatethenewyorktim',\n",
       " 'whenbarackobamaplagiarizeddonttellmewordsdontmatterbreitbart',\n",
       " 'lowerbackachebeactiveandwaititoutnewguidelinessaythenewyorktim',\n",
       " 'ifisleepforanhourpeoplewilldiethenewyorktim',\n",
       " 'veepseasonepisodedoalittledancethenewyorktim',\n",
       " 'ondroztrumpoffersplacebotransparencythenewyorktim',\n",
       " 'commentongoldmedalistwrestlergetsviolentwithpoliceallcopschoosenottoengageindeadlyforcebybuckrog',\n",
       " 'oneyearofwaterinorangecountyinjustfourdaysbreitbart',\n",
       " 'doctorswithenemiesdidafghanforcestargetthemsfhospitalthenewyorktim',\n",
       " 'yearoldhebrewmentionofjerusalemfound',\n",
       " 'spiritcookingthemostdisturbingpodestaemailyetwarninggraphiccont',\n",
       " 'donaldtrumpsmisstepsriskputtingaceilingoverhissupportinswingstatesthenewyorktim',\n",
       " 'greenpartysmargaretflowerschallengesussenatedebateinmarylandasundemocrat',\n",
       " 'officerrescuesdrowningdeerfrompoolwithquickthink',\n",
       " 'policesuspectspuncharmyveteranstealhisservicedogoutsidehomeinthebronxbreitbart',\n",
       " 'yikesmegynkellyreceivesrudeawakeningremindedshesreplac',\n",
       " 'iransendingeliteirgcwarfightersintoeuropeandunitedstatesinpreparationforbattl',\n",
       " 'hillaryendorseddonaldtrumpforpresidentaccordingtowikileak',\n",
       " 'woodwardtrumpdossierisagarbagedocumentintelligencechiefsshouldapologizetotrumpbreitbart',\n",
       " 'emmynominationstracymorganonhisemotionalreturntosaturdaynightlivethenewyorktim',\n",
       " 'trumppicksmickmulvaneysouthcarolinacongressmanasbudgetdirectorthenewyorktim',\n",
       " 'donaldtrumpelprimerpresidentenaranjadelosestadosunido',\n",
       " 'rewhydidattorneygenerallorettalynchpleadthefifth',\n",
       " 'russiausmissiledefenseposesdeeprisktosecurityofasia',\n",
       " 'whatdoeswashingtonplanbinsyriareallymean',\n",
       " 'upsetbybrexitsomebritishjewslooktogermanythenewyorktim',\n",
       " 'girlasksherboyfriendstoeachgiveheraniphoneusesthemoneytobuyahous',\n",
       " 'amnestyinternationalslamsobamagovforkillingciviliansinsyria',\n",
       " 'findinghisflockaruralwritersbookclubthenewyorktim',\n",
       " 'venezuelacrisisentersdangerousphaseasmadurofoesgomilit',\n",
       " 'emigresuperblocspartviiithequasilegalcouphillaryclintoninformationoperationsinelect',\n",
       " 'howcouldyouquestionstoasklovedoneswhovotedtheotherwaythenewyorktim',\n",
       " 'thebbcaskswhatreallyhappenedwiththeclintonsinha',\n",
       " 'trumppicksthomasbossertastopcounterterrorismadviserthenewyorktim',\n",
       " 'comingunglu',\n",
       " 'trumpjrsuspiciouslyhelpsarizonawomanpushstalledcarusesitasaphotoopvideo',\n",
       " 'suicidesbychicagopoliceofficersskyrocket',\n",
       " 'soyouthinksuvsaresafeshockingvideo',\n",
       " 'peopletorturedkilledatsufimuslimshrineinpakistan',\n",
       " 'commentonarchitectureismorethanacleverarrangementofbricksthismantransformsitintoahealingprocessbyarchitectureismorethanacleverarrangementofbricksthismantransformsitintoahealingprocessnewearthmedia',\n",
       " 'hybridwarsstrategiesagainstafricaintroduct',\n",
       " 'julianassangetospeakprerecordedrtinterview',\n",
       " 'watchisraellovinghollywoodactorjustissuedmajorpleatoamericainminutesthatllrocktheelect',\n",
       " 'onsnldonaldtrumpbotcheshisindependencedaymomentthenewyorktim',\n",
       " 'exclusivecongresswomanmarshablackburnsayseliminatenetneutralitytopreserveanopeninternetbreitbart',\n",
       " 'howtoattachayearroundgreenhousetoyourownhom',\n",
       " 'sheriffclarkeonobamasfinaldaysobamaslikeatenantwhosbeenevictedfromapropertyandhesgonnatrashtheplaceonthewayoutthedoorvideo',\n",
       " 'weirdbansonwomeniniran',\n",
       " 'theendgameclosesinontheclintonsasthedeepstateturn',\n",
       " 'doestrumphaveafightingchanceagainsttheestablishmentneweasternoutlook',\n",
       " 'intradestancestowardchinaclintonandtrumpbothsignalachillthenewyorktim',\n",
       " 'reviewthesecretlifeofpetsamusesbutmissesopportunitiesthenewyorktim',\n",
       " 'firstcaseofdemonetisationrelatedhivaftermanhasunprotectedsexwithanatmmachin',\n",
       " 'thingsyouneedtoknowaboutthedakotaaccesspipelineprotest',\n",
       " 'kochbrothersbattletopreventdarkmoneydisclosureinsouthdakota',\n",
       " 'miloberkeleyeventevacuatedasmaskedprotesterslightfiresstormvenuebreitbart',\n",
       " 'authoritarianismhowthewestdemonizesstrongpopularlead',\n",
       " 'swedishjournoswedenwillcollapsewithoutillegalmigr',\n",
       " 'isyourpromisinginternetcareerovernowvineisdeadwritefornewsbiscuittocheeryourselfup',\n",
       " 'iniowatrumpvotersareunfazedbycontroversiesthenewyorktim',\n",
       " 'radicalamericangrownmarxistterrorgroupjustmadeannouncementforjanuarythconservativedailypost',\n",
       " 'guardianopinionwritertrumpbannoncountingonterroristmassacr',\n",
       " 'putinsprotrumponlinetrollsjustspilledthebeanstosamanthabe',\n",
       " 'alongmosulsfrontlinedesperateciviliansanddugintroopsandfightersthenewyorktim',\n",
       " 'assecondavenuesubwayopensatraindelayendsinhappytearsthenewyorktim',\n",
       " 'yearoldcherdonsseethroughtopandnipplepastiesatbillboardaward',\n",
       " 'reportstoppingonlyninepercentofillegalalienbordercrosserswouldpayfortrumpsborderwallbreitbart',\n",
       " 'iceunionissuesfinalwarningtovot',\n",
       " 'howanelitenewyorkpoliceunitrehearsesforaterroristattackthenewyorktim',\n",
       " 'trumpshollywoodstarvandaloutshimselfinshamelessnewvideotauntspoliceseekinghimout',\n",
       " 'californiatodayaviewofsanfranciscosleaningtowerfromspacethenewyorktim',\n",
       " 'matthewstrumpsspeechwhatputinhasbeensayingamericafirsthashitlerianbackgroundbreitbart',\n",
       " 'vladimirputinatthevaldaiinternationaldiscussionclubshapingtheworldoftomorrowbyvladimirputin',\n",
       " 'chinesesocialmediaragesoverunitedairlinescontroversybreitbart',\n",
       " 'americaisbetterwithoutbord',\n",
       " 'morethanchaosterrortiesmakevenezueladirectthreattousaformerunsecuritycouncilpresidentsaysbreitbart',\n",
       " 'rickrossdocumentaryvideodoublesasadforcheckersthenewyorktim',\n",
       " 'oilhasbeenspillingintothepacificoceansincelastmonthanditsbeingtotallyignor',\n",
       " 'podestatomillswearegoingtohavetodumpallthoseemail',\n",
       " 'thosewhothoughtlesslydisbelieveconspiracytheoriesneedtoreadthi',\n",
       " 'drdaviddukeanddrslatteryexposehillarystreasonandwhytrumpdukewillwin',\n",
       " 'russianfrigateoffsyriancostblaststerroristhqwithcruisemissilesvideo',\n",
       " 'hillaryclintonlikedcovertactionifitstayedcoverttranscriptshowsthenewyorktim',\n",
       " 'uskurdishtroopswillbeinvolvedininvadingisiscapitalofraqqa',\n",
       " 'awakenedhumanityawaitsfullyscriptedendingascontroversialelectiondaynear',\n",
       " 'georgesorosbackedclimatemarchbringscelebstonationalmallonswelteringsaturdaybreitbart',\n",
       " 'edwardsnowdenslongstrangejourneytohollywoodthenewyorktim',\n",
       " 'theblacksfortrumpmanoncebelongedtoamurderouscult',\n",
       " 'billclintonsloverhecalledruthlesshillarythewarden',\n",
       " 'russiacinaearabiasauditadomanolegemoniadeldollarodiarielnoyolarodrguez',\n",
       " 'initsthirdmonthindiascashshortagebeginstobitethenewyorktim',\n",
       " 'theresonlyonetrumpadministrationpositionthatsgainingpopularityanditsgoingtoshockyoubreitbart',\n",
       " 'billclintonsaidwhitemiddleclasslifeexpectancydeclinedduringobamayear',\n",
       " 'furiousericholderjustissuedadirewarningaboutcomeyspartisansmear',\n",
       " 'memototrumpactionthisday',\n",
       " 'chaosanddesperationasthousandsfleealeppoamidgovernmentadvancethenewyorktim',\n",
       " 'wildfireemptiesfortmcmurrayinalbertasoilsandsregionthenewyorktim',\n",
       " 'schumersessionsshouldbeinvestigatedheseemstobeviolatinghisrecusalbreitbart',\n",
       " 'amiddivisionamarchinwashingtonseekstobringwomentogetherthenewyorktim',\n",
       " 'zoesaldanatrumpwonbecausehollywoodgotcockybecamearrogantbulli',\n",
       " 'antiestablishmenttrumpplanstoappointgoldmansachsandgeorgesorosinsid',\n",
       " 'docholesteroldrugshavemenbytheirgonad',\n",
       " 'trumpflynntreatedveryunfairbyfakemediaillegalleaksbreitbart',\n",
       " 'californiatodayinvirtualrealityinvestigatingthetrayvonmartincasethenewyorktim',\n",
       " 'nearlydecadeslateranapologyforalynchingingeorgiathenewyorktim',\n",
       " 'marciaclarkfinallyhasamomenttosavorattheemmysthenewyorktim',\n",
       " 'inbrexitspeechtheresamayoutlinescleanbreakforukthenewyorktim',\n",
       " 'amanwhohatedblackmenfoundavictimwhocaredforothersthenewyorktim',\n",
       " 'michaelflynnfailedtodiscloseincomefromrussialinkedentitiesthenewyorktim',\n",
       " 'federaljudgethrowsoutconvicteddcsnipersfourlifesent',\n",
       " 'donaldtrumpobamathanksgivingyourweekendbriefingthenewyorktim',\n",
       " '',\n",
       " 'vinecelebratethelifeanddeathofanappwiththeseclip',\n",
       " 'squattypottyceogriffinimagesodivisiveandsodisturbingyoudonthaveadecisionr',\n",
       " 'thingstoletgoofbeforethenewyear',\n",
       " 'commentonmapoliceunionpostspicsofhillarybeingarrestedonfacebookbydan',\n",
       " 'kochbrotherssecretlyalliedwgeorgesorosforhillaryclinton',\n",
       " 'trumpexpandssearchforhissecretaryofstatethenewyorktim',\n",
       " 'teachertoyroldicantwaituntiltrumpiselectedhesgoingtodeportallyoumuslim',\n",
       " 'costnotchoiceistopconcernofhealthinsurancecustomersthenewyorktim',\n",
       " 'shaqannouncesplantorunforsheriffinbreitbart',\n",
       " 'illegalimmigrantscrossingthebordertovot',\n",
       " 'piratesfailtotakethehelmicelandspiratepartygainsmileagebutnotenoughtosteadyshipalon',\n",
       " 'thebillionairewhosbuildingadavosofhisownthenewyorktim',\n",
       " 'runningintodangeronanalaskantrailthenewyorktim',\n",
       " 'velapelculadesuvidaydescubrequehallevadosiempreuntrozodelechugaentrelosdient',\n",
       " 'demswincongressionalbaseballgamegivetrophytorepublicanstevescalisebreitbart',\n",
       " 'francetopresentstrictguncontrolapapertigerbreitbart',\n",
       " 'chinarussiathesilkroadcommoditiesnixonandamassivebullmarketingoldsilv',\n",
       " 'troubledquarterbackjohnnymanzieltoappearatshoppingmalltosignautographsduringnextsuperbowlbreitbart',\n",
       " 'bobdylanaccusedofliftingpartsofnobelprizespeechfromsparknot',\n",
       " 'afterblimpcrashandecolicontaminationsnakebittenusopenwitnessesaspectatordeathbreitbart',\n",
       " 'publicemployeesandtheshadowworldofamericancarnag',\n",
       " 'espnslzgrandersonjustifiedtothinkkaepernickisbeingblackballedifnobodysignshimbreitbart',\n",
       " 'prescriptionpainkillerdeathsdroppedinstatesthatlegalizedmarijuana',\n",
       " 'wereinalowgrowthworldhowdidwegetherethenewyorktim',\n",
       " 'istanbuldonaldtrumpbenjaminnetanyahuyourmorningbriefingthenewyorktim',\n",
       " 'hitlerorhillari',\n",
       " 'dalianwandashollywoodeventisitselfaproductionthenewyorktim',\n",
       " 'commentonpmwatercoolerbytimmi',\n",
       " 'breakdownoftheclintonmoneymachin',\n",
       " 'californiaatforefrontofclimatefightwontbackdowntotrumpthenewyorktim',\n",
       " 'getheyearoldsoftwarestartupthenewyorktim',\n",
       " 'forhillaryclintonathamiltonthatwouldbeenoughthenewyorktim',\n",
       " 'brainconcussionsinchildrenandadultswhattoknowaboutvaccinedamag',\n",
       " 'trumpthegreatpaulcraigrobert',\n",
       " 'hillaryfranticasdirtysecretimplodesgetsworsewithprisonbombshel',\n",
       " 'rentingacarknowtherulesoftheroadthenewyorktim',\n",
       " 'allimpeachmentsarepoliticalbutwasbrazilssomethingmoresinisterthenewyorktim',\n",
       " 'trumpininterviewmoderatesviewsbutdefiesconventionsthenewyorktim',\n",
       " 'reviewsweetbitterabrightlightsbigcityfortherestaurantsetthenewyorktim',\n",
       " 'gonzagabeatssouthcarolinainfinalfourforshotatanotherfirstthenewyorktim',\n",
       " 'gorkatrumpisnotaninterventionistcommanderinchiefnothinghaschangedbreitbart',\n",
       " 'rethankyoufbitheclintonemailinvestigationhasshiftedthepollnumberssignificantlyintrumpsfavor',\n",
       " 'racenotclassdictatesrepublicanfutur',\n",
       " 'gorsuchscaliaalionofthelawjudgesshouldlooktowhatlawdemandsnotwhattheypreferbreitbart',\n",
       " 'ncstateprovidesstudentswithpostelectioncomfortfoodtherapi',\n",
       " 'iraqitroopspushfurtherintomosulkilledacrossiraq',\n",
       " 'pregnantwomenturntomarijuanaperhapsharminginfantsthenewyorktim',\n",
       " 'biggestwinnersandlosersoftheuspresidentialelect',\n",
       " 'istrumppsychiclistentohiswordsoneyearagolookatwhatjusthappen',\n",
       " 'mccaintrumpsattacksonpressarehowdictatorsgetstartedbreitbart',\n",
       " 'judgmentdaytheonereasonwhyeverychristianandjewinamericashouldvotefordonaldtrump',\n",
       " 'theonlycoupisastolenelect',\n",
       " '',\n",
       " 'thingsyouneedtoknowabouttheblackedoutdakotaaccesspipelineprotest',\n",
       " 'germanyiraqiasylumseekerconvictedofrapingchinesestud',\n",
       " 'teenageboyknocksouthisclassmateforassaultingtheirfemaleteacherinthefaceanditsep',\n",
       " 'whatdoesittaketobringhillaryclintontojustic',\n",
       " 'iceroundsupcriminalaliensintexascapit',\n",
       " 'theelectionofhategriefandanewstori',\n",
       " 'hillaryhasaquestionaboutmichelleobamacanyouhelpherout',\n",
       " 'keithvazbritishlawmakerquitsseniorpostamidsexanddrugscandalthenewyorktim',\n",
       " 'commentonsundaydevotionalthewholeuniverseisasagrainbysundaydevotionalthewholeuniverseisasagrainfellowshipofthemindskommonsentsjan',\n",
       " 'donaldtrumpsyriaemperorakihitoyourmorningbriefingthenewyorktim',\n",
       " 'hellhasfrozenovermichelleobamajustmadeahillarydestroyingmoveontwitt',\n",
       " 'flynncriticscallnuclearscientistmissusadumbaftershedissesfeminismandcallshealthcareaprivilegebreitbart',\n",
       " 'hampshirecollegestudentaccusedofassaultingbasketballplayerforwearinghairbraidsclaimsculturalappropriationbreitbart',\n",
       " 'theobamamometerstoxiclegacytheruleoflawless',\n",
       " 'forsimonemanuelgoldripplesbeyondthepoolthenewyorktim',\n",
       " 'howvotingmachinesareprogrammedinordertostealelect',\n",
       " 'redrawingthetreeoflifescientistsdiscovernewbacteriagroupsstunningmicrobialdiversityunderground',\n",
       " 'trumpandputinwewilldestroyisisonceandforal',\n",
       " 'photogamecameracatchesglimpseofpossibleantleredbuck',\n",
       " 'turkeysrelationswitheuropesinkamidquarrelwithnetherlandsthenewyorktim',\n",
       " 'wikileaksdocumentsrevealunitednationsinterestinufosvideo',\n",
       " 'bluestatebluesthedeliberatepoliticizationofintimaci',\n",
       " 'clarehollingworthreporterwhobrokenewsofworldwariidiesatthenewyorktim',\n",
       " 'northmiamipoliceofficersshootmanaidingpatientwithautismthenewyorktim',\n",
       " 'thepathtototaldictatorshipamericasshadowgovernmentanditssilentcoup',\n",
       " 'effortstocurbpoliceabuseshavemixedrecordanduncertainfuturethenewyorktim',\n",
       " 'didthisjustsignalamajorbottomingoldsilv',\n",
       " 'heyhoitsoldenglandembracespunkrockyearslaterthenewyorktim',\n",
       " 'canoesreekofgenocidetheftandwhiteprivilegesayscanadianprofessor',\n",
       " 'illegalimmigrantadvocatespledgetoresistdeportationundertrump',\n",
       " 'cdcscientistconfirmsdonaldtrumpisrightaboutvaccinesandaut',\n",
       " 'breitbartnewsdailydrainingtheswampbreitbart',\n",
       " 'trumpthemediasfrankensteinmonst',\n",
       " 'watchtonyromosaysgoodbyetodallascowboysininstagramvideobreitbart',\n",
       " 'globalismafarrightconspiracytheorybuoyedbytrumpthenewyorktim',\n",
       " 'georgiafatherisconvictedofmurderintoddlersdeathinhotcarthenewyorktim',\n",
       " 'richardbollesdiesatwrotewhatcolorisyourparachutethenewyorktim',\n",
       " 'stranahanstevebannonnaileditonthemediasfightagainsttrumpbreitbart',\n",
       " 'texaselectorexpectsmassivecorruptionrelatedtotheelectoralcollegevot',\n",
       " 'notguiltythepowerofnullificationtocounteractgovernmenttyranni',\n",
       " 'morethantrillioninnewdebtinday',\n",
       " 'torycouncillorsayhomelesspeopleshouldbeelimin',\n",
       " 'reviewinhillbillyelegyatoughloveanalysisofthepoorwhobacktrumpthenewyorktim',\n",
       " 'criminalinchief',\n",
       " 'allgovernmentsliethemovi',\n",
       " 'trumpandbrexitdefeatglobalismfornowanyway',\n",
       " 'facingcongresssomesportsofficialsnotallbegintoconfrontsexualabusethenewyorktim',\n",
       " 'airbnbendsfightwithnewyorkcityoverfinesthenewyorktim',\n",
       " 'bigpharmasmartinshkrelisuspendedfromtwitterbreitbart',\n",
       " 'nextbigtechcorridorbetweenseattleandvancouverplannershopethenewyorktim',\n",
       " 'evidencethatrobotsarewinningtheraceforamericanjobsthenewyorktim',\n",
       " 'seeingafricabyroadthenewyorktim',\n",
       " 'whathappenswhenhiphophillarygoesfordeadbrokebraceyourselv',\n",
       " 'billmaherisnthighontrumpthestateoffreespeechinanewerathenewyorktim',\n",
       " 'thelpgatouranddonaldtrumpitscomplicatedthenewyorktim',\n",
       " 'legendartcashinonatrumppresidencythenewworldordergoldbrexitthegreatdepressionandwhywewillseepan',\n",
       " 'flsheriffnotadaygoesbythatwealldontarrestalotofillegalalienswhoarepreyingonpeoplebreitbart',\n",
       " 'donaldtrumpthreatenstocancelberkeleyfederalfundsafterriotsshutdownmiloev',\n",
       " '',\n",
       " 'billherzlastofwaroftheworldsbroadcastcrewdiesatthenewyorktim',\n",
       " 'garyjohnsonequatessyriadeathscausedbyassadandwestthenewyorktim',\n",
       " 'republicansenatorsbilltodefundunoverantiisraelresolut',\n",
       " 'roseevanskyapioneerinwomenshairstylingdiesatthenewyorktim',\n",
       " 'blackstonesaudiarabiaannouncebillioninvestmentinusinfrastructurebreitbart',\n",
       " 'saturatedfatandheartdiseasethegreatestscaminthehistoryofmedicin',\n",
       " 'demsenmerkleygorsuchnominationacourtpackingschemeheshouldhaveturneddownnominationbreitbart',\n",
       " 'fourcommonmistakeswhenburningwood',\n",
       " 'pushforinternetprivacyrulesmovestostatehousesthenewyorktim',\n",
       " 'madonnagaveasurprisepopupconcerttosupportclintonweweretherethenewyorktim',\n",
       " 'trumpsupporterplansantitrumprallyoverlackoftaxreform',\n",
       " 'britishhealthcareoffersaglimpseintothefutureofobamacar',\n",
       " 'trumptoiranianpresidentrouhanibetterbecarefulbreitbart',\n",
       " 'breakingsecofdefensecarterattemptingtofooltheamericanpublicaboutveteranscaughtredhand',\n",
       " 'putinsadvisertakescreditfortrumpvictorymaybewehelpedabitwithwikileak',\n",
       " 'warrenbuffettstakesuggestsappleisallgrownupthenewyorktim',\n",
       " 'rethefbisclintonemailinvestigationhasshiftedpollnumberssignificantlyintrumpsfavor',\n",
       " 'hillaryhorrifiedaspicssurfacedovernightthatshedidntwantout',\n",
       " 'paullepagethegovernorofmainenowsayshesnotquittingthenewyorktim',\n",
       " 'coloradoradiostationspaulmartininterviewsdavehodgesonelectionfraudandstandingrock',\n",
       " 'billclintonwantstobecalledsomethingcompletelyridiculousifhillaryiselect',\n",
       " 'afterhersonsdeathsallymannstagesahauntingshowthenewyorktim',\n",
       " 'trumpteamslinkstorussiacrisscrossinwashingtonthenewyorktim',\n",
       " 'northkoreanisarrestedinkillingofkimjongunshalfbrotherthenewyorktim',\n",
       " 'surgeonsadmitthatmammographyisoutdatedandharmfultowomen',\n",
       " 'waronthestreetsofparisarmedmigrantsfightrunningbattlesinthefrenchcapit',\n",
       " 'oscarvotermerylstreeponlynominatedforantitrumpspeech',\n",
       " 'texasenactsantisharialaw',\n",
       " 'chicagopoliceboardchairwindycityneedsfederalhelptoturntideoncrimebreitbart',\n",
       " 'lookingbeyondnovemberthasongofoligarchyanddoom',\n",
       " 'neilyoungcelebrateshisstbirthdaybyperformingatstandingrock',\n",
       " 'exclusiveamidpaulryansobamacarepushmississippischrismcdanielprepsforpotentialsenaterunbreitbart',\n",
       " 'boomshortlistofpeoplemoreinspiringthanmichelleobama',\n",
       " 'moreartistsaregoingtoboycottthegrammysfacefalloutafterfraughtawardsthenewyorktim',\n",
       " 'videoidiotdestroystrumpshollywoodstargetsbadnewssecondslat',\n",
       " 'hewonbecausetheeliteswanthimtheretheglobaleconomywillcollaps',\n",
       " 'besthealthbenefitsofsw',\n",
       " 'senateconfirmsscottpruittasepaheadthenewyorktim',\n",
       " 'cricketssnakescrabsamixoffactandfraudinnewyorkssubwaythenewyorktim',\n",
       " 'sessionsspotentialdeputyfacesasterntestonrussiainquiriesthenewyorktim',\n",
       " 'suicidesquadtopsboxofficeforsecondweekendthenewyorktim',\n",
       " 'healthinsurersplanratehikesforobamacareexchangesbreitbart',\n",
       " 'relookslikesomeonethinksthedemocratsinohioarefullofmanur',\n",
       " 'syrianwarreportnovembergovtforcestorelaunchoffensiveoperationsinsideandoutsidealeppo',\n",
       " 'mysterysolvedsothisiswhatgetshillaryclintontogetmovintwitchycom',\n",
       " 'senatenarrowlypassesrollbackofobamaeraautoirarulethenewyorktim',\n",
       " 'incrampedandcostlybayareacriestobuildbabybuildthenewyorktim',\n",
       " 'championingoptimismobamahailsclintonashispoliticalheirthenewyorktim',\n",
       " 'fionaapplereleasesatrumpprotestchantthenewyorktim',\n",
       " 'susanriceusmustintegratelgbtrightsintogovtandforeignpolici',\n",
       " 'trumporganizationmovestoavoidpossibleconflictsofinterestthenewyorktim',\n",
       " 'swedenonthebrinkpoliceforcepushedtobreakingpointbyviolenceamidmigrantinflux',\n",
       " 'commentonhempvscottontheultimateshowdownbyhempreaddressingcannabiskuebikoco',\n",
       " 'jaredkushnertrumpssoninlawisclearedtoserveasadviserthenewyorktim',\n",
       " 'fishermanfaceslifeinprisonforcatchingworthofcocaineandsellingitbreitbart',\n",
       " 'steppingoutoftheringwhilerollingwiththepunchesthenewyorktim',\n",
       " 'adnansyedofserialpodcastgetsaretrialinmurdercasethenewyorktim',\n",
       " 'scientistssayweirdsignalsfromspaceareprobablyalien',\n",
       " 'usswimmersdisputedrobberyclaimfuelstensioninbrazilthenewyorktim',\n",
       " 'waystotakeaselfcarevacationthenewyorktim',\n",
       " 'economistssignletterurgingamericanottovotefordonaldtrump',\n",
       " 'campaignsarelongexpensiveandchaoticmaybethatsagoodthingthenewyorktim',\n",
       " 'alienmegastructurestartargetedbymillionsetisearch',\n",
       " 'brazenkillingofmyanmarlawyercameafterhesparredwithmilitarythenewyorktim',\n",
       " 'janepauleyisbackagainthenewyorktim',\n",
       " 'deutschebankconsideringalternativestopayingcashbonu',\n",
       " 'allofdannydyersfootballfoulupsdvdinsecond',\n",
       " 'lackofoxfordcommacouldcostmainecompanymillionsinovertimedisputethenewyorktim',\n",
       " 'europeanparliamentcommitteeconsideringlegalrightsforrobotsbreitbart',\n",
       " 'rextillersonanaggressivedealmakerwhosetieswithrussiamaypromptscrutinythenewyorktim',\n",
       " 'notoverfbitoconductnewinvestigationofemailsfromclintonsprivateillegalserv',\n",
       " 'heartsminestheusempirescultureindustri',\n",
       " 'reportmegyntrashestrumpnewtthenmurdochannouncesreplacementsareavail',\n",
       " 'russianscientistswilltracksealionsfromspac',\n",
       " 'byseizingthedefinitionofpopulismreuterswarnsusofchaostocom',\n",
       " 'seaworthyandreadyforanearlyunveilingthenewyorktim',\n",
       " 'donaldtrumpaddsktmcfarlandtohisnationalsecurityteamthenewyorktim',\n",
       " 'snowstormbringswintrymixofslushandgripesthenewyorktim',\n",
       " 'republicanswilderstillersonyourthursdayeveningbriefingthenewyorktim',\n",
       " 'reviewbryancranstonshinesaslyndonjohnsoninallthewaythenewyorktim',\n",
       " 'samsungurgesconsumerstostopusinggalaxynotesafterbatteryfiresthenewyorktim',\n",
       " 'electionresultdiscussionforthepresidentialelectionopenthread',\n",
       " 'aglynchtoldfbidirectorcomeynottogopublicwiththenewclintonemailinvestig',\n",
       " 'donaldtrumpandtheriseofwhiteidentityinpolit',\n",
       " 'redblueanddividedsixviewsofamericathenewyorktim',\n",
       " 'franceidentifiesndmanwhoattackedchurchandkilledpriestthenewyorktim',\n",
       " 'dreamersarrestedinnationwidegangcrackdown',\n",
       " 'maxinewatersamericanpublicgettingwearythattrumpnotimpeachedyetbreitbart',\n",
       " 'wwnshoroscop',\n",
       " 'deporteditalianmobstercaughtsneakingacrossusmexicobord',\n",
       " 'leakedaudiohillaryclintonpushedriggingpalestineelectionsin',\n",
       " 'howtheiraniansaudiproxystruggletoreapartthemiddleeastthenewyorktim',\n",
       " 'lavrovandkerrydiscusssyriansettl',\n",
       " 'linfluencedesusaetdelotandanslesrapportsdelueaveclachinemanliodinucci',\n",
       " 'openbordersgroupsgirdforhbfight',\n",
       " 'willweinergateexposedarkeranddirtiersecretsthanweimagin',\n",
       " 'trumpselectionbreakschainsofpoliticalcorrect',\n",
       " 'whitehousegovtakesdownclimatepageputsupamericafirstenergyplanbreitbart',\n",
       " 'iranwarnspresidentelecttrumpnottomesswiththeirsweetheartnucleardealfromobama',\n",
       " 'tonyperkinstrumpeoreaffirmsjeffersonsdoctrineofseparationofchurchandst',\n",
       " 'themoonthatfellfromheaven',\n",
       " 'momstarslaunchcampaignforplannedparenthood',\n",
       " 'assadslessonfromaleppoforceworkswithfewconsequencesthenewyorktim',\n",
       " 'pencebossertandbannonwerentdemotedbothwillcontinuetoplayimportantpolicyrolesbreitbart',\n",
       " 'bundyranchoccupiersacquittedonallcountsafterchallengingthecorruptbureauoflandmanag',\n",
       " 'reportgooglefacesfineofuptobillionineuantitrustcasebreitbart',\n",
       " 'dontaskthomyorketowriteacoverquoteforyourbook',\n",
       " 'internetflash',\n",
       " 'gretchencarlsonsuitaimsatretaliationoverdiscriminationthenewyorktim',\n",
       " 'googlelaunchesaiprogramtodetecthatespeechbreitbart',\n",
       " 'whypollsshowinghillaryintheleadareuselessandmisleadingcartoon',\n",
       " 'whylastsecondlanemergersaregoodfortrafficthenewyorktim',\n",
       " 'inmacauskippingthecasinosbutembracingthepastthenewyorktim',\n",
       " 'inmontrealanungainlyandunlovedchristmastreethenewyorktim',\n",
       " 'photosofjupiterfromnasaspacecraftbothnearandfarthenewyorktim',\n",
       " 'trumpslaborpickandrewpuzderiscriticofminimumwageincreasesthenewyorktim',\n",
       " 'nicorosbergtakesformulaonedriverstitledespitelewishamiltonswininabudhabithenewyorktim',\n",
       " 'whatasensoryisolationtanktaughtmeaboutmybrainthenewyorktim',\n",
       " 'chelseahandlerbotchestweetattackingtrumpsgrandchild',\n",
       " 'reporttrumpmovestoowntaxreformplanwithoutspeakerpaulryanbreitbart',\n",
       " 'agjeffsessionsunveilsprogramtoacceleratedeportationofimprisonedillegalsbreitbart',\n",
       " 'formerusattorneyfordcnewhillaryemailprobewasresultofrevoltinsidefbi',\n",
       " 'howkeepingupappearancesruinedaformerdallasbankerthenewyorktim',\n",
       " 'sesameseedsforkneeosteoarthr',\n",
       " 'howwhitecopsinteractwithblacksinreallif',\n",
       " 'pennsylvaniarepublicanpushingbanonprivategunsalesbreitbart',\n",
       " 'reviewinwarcraftorcsofadifferentdomainfightingwithheartthenewyorktim',\n",
       " 'whengoodpeoplesharebadinfohereswhyyouneedtofactcheckbeforeyouclickshar',\n",
       " 'forthosewhohaveitallcharitableweddingregistriesthenewyorktim',\n",
       " 'thisisitnypdjustraidedhillaryspropertywhattheyfoundwillruinherlifeusanewsflash',\n",
       " 'feinsteingorsuchsoriginalistdoctrinereallytroublingoriginalismwouldhaveallowedsegregationbreitbart',\n",
       " 'confrontationsflareasobamastravelingpartyreacheschinathenewyorktim',\n",
       " 'reasonswhyyoushouldapplyforajobinthetrumpadministr',\n",
       " 'andyouthoughtthesilvermarketwasrig',\n",
       " 'canyouhearagnesmartinsserenityinjohnzornsfrenziedmusicthenewyorktim',\n",
       " 'mustseewelcometothefamilywhysomanyhispanicamericansarevotingfordonaldtrump',\n",
       " 'iraqiforcesenterwesternmosulinfiercebattleagainstisisthenewyorktim',\n",
       " 'europeanshavenofutureputinonmigrantcrisisvideo',\n",
       " 'inrollingstonedefamationcasemagazineandreporterorderedtopaymillionthenewyorktim',\n",
       " 'hillaryissicktiredofsufferingfromweinerbackup',\n",
       " 'taiwanitalyjoemcknightyourfridayeveningbriefingthenewyorktim',\n",
       " 'shiitemilitiasaysitisclosetotalafarwhichturkeyhaswarnedisofflimit',\n",
       " 'brotherofclintonscampaignchairisanactiveforeignagentonthesaudiarabianpayrol',\n",
       " 'wemustfightthemtrumpgoesafterconservativesoffreedomcaucusthenewyorktim',\n",
       " 'isiskidnapskillsatleastciviliansinafghanistan',\n",
       " 'holdinghillaryaccount',\n",
       " 'breakingtedcruzcallsforspecialprosecutortoinvestigatehillarytruthfe',\n",
       " 'sparedbygunmanincharlestonchurchgoerdescribesnightofterrorthenewyorktim',\n",
       " 'waronsaturatedfatshasharmedpeopleinpoorcountrieswhoshunnedtraditionalfatslikecoconutoil',\n",
       " 'democratswithgarlandonmindmobilizeforsupremecourtfightthenewyorktim',\n",
       " 'commentonofthebestkindsofmilkthatarentdairybyofthebestkindsofmilkthatarentdairycollectiveevolutionapgeditori',\n",
       " 'harryreidblastscomeyformisconductdropsbombshellfbiissittingonrussiantrumpinfo',\n",
       " 'nationalreviewconservatismincplantocaveevenmoreonimmigr',\n",
       " 'watchthugcallsusmarineapussybarelylivestotellthetal',\n",
       " 'willthenextuspresidentbeapsycholesbianplusbreakingnewsvideo',\n",
       " 'criticsseeeffortsbycountiesandtownstopurgeminorityvotersfromrollsthenewyorktim',\n",
       " 'youreveningbriefinghillaryclintondonaldtrumpculturalrevolutionthenewyorktim',\n",
       " 'indianaparentslosetheirbabyandyearsoftheirlivesinjailforabusetheysayneverhappen',\n",
       " 'therollingstonespaintitblueontheirnewalbumthenewyorktim',\n",
       " 'uberextendsanolivebranchtolocalgovernmentsitsdatathenewyorktim',\n",
       " 'wildersputdutchfirstnotbrusselsafricaandasylumseek',\n",
       " 'donaldtrumpgoodeducationenrichesboththemindandthesoul',\n",
       " 'watchbradpittplaysafghanistanwargeneralinwarmachineteaserbreitbart',\n",
       " 'twopowerfulearthquakesstrikecentralitali',\n",
       " 'indoorgardeningmadeeasythenutritow',\n",
       " 'elizabethwarrendefinessleazyhypocrisi',\n",
       " 'rushlimbaughoreillydeparturewasnotnaturalitwasacampaignbreitbart',\n",
       " 'museumtrusteeatrumpdonorsupportsgroupsthatdenyclimatechangethenewyorktim',\n",
       " 'cecilerichardscreditsplannedparenthoodsupporterswithstoppingahcabreitbart',\n",
       " 'whentheyswitchthechiponyouwontknowwhoyouareanymor',\n",
       " 'usconcedesmillionpaymenttoiranwasdelayedasprisonerleveragethenewyorktim',\n",
       " 'australiasaysitfoiledaterroristplotthenewyorktim',\n",
       " 'orovilledamstateandfederalgovernmentshareblam',\n",
       " 'thedailytraditionalistjeffschoepandthensm',\n",
       " 'michaelmoorejoeblowwillvotetrumpasultimatefyoutotheeliteahumanmolotovcocktail',\n",
       " 'jaguarsownershahidkhanopposestrumpsimmigrationbanthenewyorktim',\n",
       " 'thisantitrumpadvertonthesideofabusisreallyvisuallycleverandyouhavetoseeitinmot',\n",
       " 'apianomanofmanyfacesandsomestrangerstoriesthenewyorktim',\n",
       " 'moreticketstobereleasedforharrypotterandthecursedchildthenewyorktim',\n",
       " 'fbivisitsmanathishomeafterhefilmsuspostaldistributioncent',\n",
       " 'hispaniccrowdboosmarcorubiooffstag',\n",
       " 'firedtvreporterivereceivedthousandsofsexualandviolentthreat',\n",
       " 'detainedillegalaliensenddayhungerstrik',\n",
       " 'breakingsilenceofficertestifiesaboutkillingofwalterscottthenewyorktim',\n",
       " 'illegalimmigrantallegedlykillsforparkingspot',\n",
       " 'presidenttrumphonorslittlesistersofthepooronfirstwhitehousenatldayofprayerinyearsbreitbart',\n",
       " 'hillaryclintonsupportersnowcallingforarecountofvotesinbattlegroundst',\n",
       " 'hboscrapsjonstewartanimatedcomedyseri',\n",
       " 'sentencingformurdererofrarebookdeal',\n",
       " 'thelateststockmarketandinvestingbooksfinancialmarket',\n",
       " 'fashionindustryceosupportingplannedparenthoodisacivicrespons',\n",
       " 'antitrumpprotestsarepaidandstagedcraigslistrev',\n",
       " 'menisexerciseputtingadamperonyoursexlifethenewyorktim',\n",
       " 'bakingsodacoconutoilcankillcancereyeopeningevid',\n",
       " 'trumpcitingnoevidencesuggestssusanricecommittedcrimethenewyorktim',\n",
       " 'breitbartnewsdailygorsuchforscotusbreitbart',\n",
       " 'hillarytobearrest',\n",
       " 'siricanopensmartlocksandletneighborswalkintoyourhous',\n",
       " 'donaldtrumpmichaelphelpszikayourtuesdayeveningbriefingthenewyorktim',\n",
       " 'obamafuriousafterfedupdeplorablesdroppiecegiftonhim',\n",
       " 'lamarksyearssincerodneykingriotsbreitbart',\n",
       " 'thedefactousalqaedaallianceinform',\n",
       " 'corybookerapaulreveremomentisunderwaytherussiansarecomingbreitbart',\n",
       " 'rappertroyaveisshotinbrooklynthenewyorktim',\n",
       " 'seattlejudgewasignorantaboutjihadconvictionspriortoimposingrefugeereformbanbreitbart',\n",
       " 'texasstudentsskipschooltoprotestarrestsofviolentcrimin',\n",
       " 'trumpaidestrytoreassureeuropebutmanyarewarythenewyorktim',\n",
       " 'willchinatriggerthenextglobalrecess',\n",
       " 'bombingkillsmorethaninbaghdadthenewyorktim',\n",
       " 'commentonblackracismbymartinwright',\n",
       " 'thankyoufbitheclintonemailinvestigationhasshiftedthepollnumberssignificantlyintrumpsfavor',\n",
       " 'usrescueattemptinafghanistanmissedwesternhostagesbyhoursthenewyorktim',\n",
       " 'rickrulealookatandwhatsprottassetmanagementisdoingwithourclientsmoneyrightnow',\n",
       " 'farmownerarrestedforprotestingdakotaaccesspipelinestheftofherland',\n",
       " 'trumppoisedtoliftbanonciablacksiteprisonsthenewyorktim',\n",
       " 'teslasmuskinvestigatedoversolarcitybycongress',\n",
       " 'ridiculouslystupidthingsmenkeepdoingforwomen',\n",
       " 'presstvduffonuncondemnationsofmoderateterrorist',\n",
       " 'thenemesisandscourgesofthewesternworld',\n",
       " 'trumpbudgetanewfoundationforamericangreatnessbreitbart',\n",
       " 'exclusiveislamicstatesupportersvowterrorgroupwillretakemosulasliber',\n",
       " 'rollingthundermotorcyclistsreturntodchonorpowmiabreitbart',\n",
       " 'interestingfunfactsaboutstethoscop',\n",
       " 'aschinaseeksbiggerroleonworldstagexijinpingwillgotodavosworldeconomicforumthenewyorktim',\n",
       " 'veteranspreparetojoinstandingrockprotesterstostopdakotaaccesspipelin',\n",
       " 'photoslatinamericacondemnsvenezuelasexcessiveuseofforceagainstprotestsbreitbart',\n",
       " 'sugardoesntjustfeedcancercellsitmayevencreatethem',\n",
       " 'johnkerryurgesgroundingofmilitaryaircraftinkeyareasofsyriathenewyorktim',\n",
       " 'outsidemoneyfavorshillaryclintonatatorateoverdonaldtrumpthenewyorktim',\n",
       " 'fakenewsnewyorktimestargetsbreitbartforreportingtruthbreitbart',\n",
       " 'afterblastnewyorkersexaminethemselvesforpsychologicalshrapnelthenewyorktim',\n",
       " 'resistanceschwarzeneggercallsforgrassrootsrevolutionafterusexitsparisagr',\n",
       " 'virginiaofficialsrequestusinquiryafterinmatedeathsinjailthenewyorktim',\n",
       " 'howtoreportvoterfraudcrashcours',\n",
       " 'associatedpressreporteradmitsfakingnewsstoriesforhillaryclinton',\n",
       " 'reviewgarthbrooksbringsrousinganthemsandballadstoyankeestadiumthenewyorktim',\n",
       " 'sichertrainierenbeimspinninggiltabsoforthelmpflicht',\n",
       " 'everyassetclasswillcollapseyouneedtobelookingatyourwealthintermsofhowmanychickensandhowmuchgasyoucanbuy',\n",
       " 'reviewhaltandcatchfiretimetravelstosiliconvalleysdawnthenewyorktim',\n",
       " 'obamausedreligioustesttofavormuslimsoverchristian',\n",
       " 'wingsuitflyervstre',\n",
       " 'turkeysaysairportbomberswerefromkyrgyzstanrussiaanduzbekistanthenewyorktim',\n",
       " 'turmericismorepowerfulthanartificialdrug',\n",
       " 'facebookcaughtsellingtargetedadvertisementwhichexcludesdifferentrac',\n",
       " 'gatlinburgresidentsreturnhometowildfiredestructionthenewyorktim',\n",
       " 'yearoldgirlusedashumanbombinnigeriaattack',\n",
       " 'shockberkeleypollcaliforniavoterswantdemocratstoworkwithtrumpbreitbart',\n",
       " 'familiesofterrorattackvictimssuetwitterforprovidingresourcesandservicestoisisbreitbart',\n",
       " 'philippinesleadervowstopardonpoliceaccusedinmayorsdeaththenewyorktim',\n",
       " 'fdafoundmanipulatingthemediainfavorofbigpharma',\n",
       " 'jayhlehrthebeginningoftheendofepa',\n",
       " 'imahdithearrivalswhysatanismispracticedbyourlead',\n",
       " 'agsessionstodemsenharrisimnotabletoberushedthisfastitmakesmenervousbreitbart',\n",
       " 'unenvoysaysusstillbackspalestinianstatethenewyorktim',\n",
       " 'howtrumphappen',\n",
       " 'japanvotestrengthensshinzoabesgoaltochangeconstitutionthenewyorktim',\n",
       " 'justintrumpcampcaughtoncambraggingofvotersuppressionagainstwomenblacksvideo',\n",
       " 'chelseamanningasksobamatocutsentencetotimeservedthenewyorktim',\n",
       " 'redsoxbroadcasterjerryremythinksforeignplayersshouldntusetransl',\n",
       " 'shiitemilitiasjoiniraqsmosulattack',\n",
       " 'escapismreignsinsuperbowlcommercialsbutpoliticsprovesinescapablethenewyorktim',\n",
       " 'navalbriefnovemberthbyledahu',\n",
       " 'scandalousvideofootagefromanonymousexposeshumaandhillari',\n",
       " 'ajarringnewlevelofconfrontationandconflicthitswashingtonthenewyorktim',\n",
       " 'clintontransmittedclassifiedinfotoherlawy',\n",
       " 'hillaryrussianhackinghadtobeguidedbyamericansmighthavebeentrumpbreitbart',\n",
       " 'generalelectioncampaigningsuspendedinwakeofmanchestersuicidebomb',\n",
       " 'grandslamfathersonfilmissmashhitforfamili',\n",
       " 'venezuelaseconomiccrisisdoesitmeanthatthelefthasfail',\n",
       " 'herdofstampedingwildboarskillsthreeislamicstatejihadistsbreitbart',\n",
       " 'notfromvenusnotfrommarswhatwebelieveaboutgenderandwhyitsoftenwrongthenewyorktim',\n",
       " 'onobamaspardonlistahotelmagnatewhoownedstudiothenewyorktim',\n",
       " 'suspectcapturedinambushstylekillingsoftwoiowacop',\n",
       " 'megynsickellygowdytriumphantlycommentsonthehillarycasereopen',\n",
       " 'afamilyfriendlypolicythatsfriendliesttomaleprofessorsthenewyorktim',\n",
       " 'ringostarranunciaquedejalosbeatl',\n",
       " 'warlessimminentafterclintondefeat',\n",
       " 'michiefpresentsrussiaasgrowingthreattobritishinterest',\n",
       " 'howwashingtonstateupendedtrumpstravelbanthenewyorktim',\n",
       " 'toprotectandswervepolicechiefcaughtspeedinggetsalaughbutnoticketvideo',\n",
       " 'fakenewsontrumphitsmexicoexplod',\n",
       " 'whatisgoingonwithwikileak',\n",
       " 'formerciadirectorblamesmillennialsforwikileaksdocumentsbreitbart',\n",
       " 'whowilltellthestoryofslaverythenewyorktim',\n",
       " 'livewiredutchelectionshighturnoutexpectedcontroversyoverturkishmosquepollingcentr',\n",
       " 'whyshavingmeansfreedomtoomar',\n",
       " 'bombshellleakedemailsexposehowmuslimsgotinobamasadministr',\n",
       " 'arenativeamericanspartofthetenlosttribesofthejewishpeopl',\n",
       " 'blmrapperbillsallegedsonhavenastysurpriseforhillari',\n",
       " 'kevinduranttojointhegoldenstatewarriorsthenewyorktim',\n",
       " 'indiancallcentersbecomemajorcentersfordefraudingamericansbreitbart',\n",
       " 'congressattorneygenerallynchpleadsfifthonsecretiranransompay',\n",
       " 'losangelestimeseditoriallosesitovertrumpnarcissistdemagoguebreitbart',\n",
       " 'inaswirlofuntruthsandfalsehoodscallingaliealiethenewyorktim',\n",
       " 'hillaryclintonleadsdonaldtrumpinnewhampshireandfloridapollsshowthenewyorktim',\n",
       " 'genewilderhumaabedindonaldtrumpyourmondayeveningbriefingthenewyorktim',\n",
       " 'watchblimpcrashescatchesfireatusopenbreitbart',\n",
       " 'atoddleralooseguninacarandamotherdiesthenewyorktim',\n",
       " 'asianamericanactorsarefightingforvisibilitytheywillnotbeignoredthenewyorktim',\n",
       " 'howdomexicansfeelabouttheenviron',\n",
       " 'insidedonaldtrumpslaststandananxiousnomineeseeksassurancethenewyorktim',\n",
       " 'parkservicenamesdiversenationallandmarksthenewyorktim',\n",
       " 'weinerrisinginwhitehouseallyofdisgracedexcongressmanhiredbreitbart',\n",
       " 'iftrumplosesimgrabbingmymusketformercongressmanreadytogofullrevolut',\n",
       " 'decodingnorthkoreasclaimofasuccessfulnucleartestthenewyorktim',\n",
       " 'billbelichickonwitnesslisttotestifyinaaronhernandezdoublemurdercasebreitbart',\n",
       " 'lamayorsilentoncitysrisingviolentcrimebreitbart',\n",
       " 'theresamaynewbritishprimeministergivesborisjohnsonakeypostthenewyorktim',\n",
       " 'donaldtrumphillaryclintoniphoneyourwednesdayeveningbriefingthenewyorktim',\n",
       " 'usahaskilledmorethanmillionpeopleinvictimnationssinceworldwarii',\n",
       " 'policeofficersfacebacklashafterwhattheydidtohillaryinphoto',\n",
       " 'shakespearetoremainauthenticallybor',\n",
       " 'georgiacandidatejonossoffsfilmfirmfinancedbyfacebookfactcheckfund',\n",
       " 'inefforttodefeatisisusandiranimpedeoneanotherthenewyorktim',\n",
       " 'rickputabulletintrumpwilsonpotussupportersseescaliseshootingasblessingbreitbart',\n",
       " 'westernintelligenceagenciesarerunningalqaedacampsinnorthafrica',\n",
       " 'trumptellsplannedparenthooditsfundingcanstayifabortiongoesthenewyorktim',\n",
       " 'commentonhillaryclintonsguncontrolagendaexposedinwikileaksemailsbybraindiseasecalledliber',\n",
       " 'willbarackobamadelayorsuspendtheelectionifhillaryisforcedoutbythenewfbiemailinvestig',\n",
       " 'asdonaldtrumpincitesfeudsothergopcandidatesfleehisshadowthenewyorktim',\n",
       " 'germanystudentsforcedtochantallahuakbarpunishedforrefusingtriptomosqu',\n",
       " 'meteorspacejunkrocketmysteriousflashhitssiberia',\n",
       " 'trumpnationalsecurityadvisercalledrussianenvoydaybeforesanctionswereimposedthenewyorktim',\n",
       " 'projectveritasimplicateddemocraticoperativesclaimcreditforromneyvideo',\n",
       " 'laidoffamericansrequiredtoziplipsonwayoutgrowbolderthenewyorktim',\n",
       " ...]"
      ]
     },
     "execution_count": 80,
     "metadata": {},
     "output_type": "execute_result"
    }
   ],
   "source": [
    "corpus"
   ]
  },
  {
   "cell_type": "code",
   "execution_count": 81,
   "id": "fc447a1f",
   "metadata": {},
   "outputs": [
    {
     "data": {
      "text/plain": [
       "18285"
      ]
     },
     "execution_count": 81,
     "metadata": {},
     "output_type": "execute_result"
    }
   ],
   "source": [
    "len(corpus)"
   ]
  },
  {
   "cell_type": "code",
   "execution_count": 82,
   "id": "ff7f02df",
   "metadata": {},
   "outputs": [],
   "source": [
    "# Applying Bag of Words on Data"
   ]
  },
  {
   "cell_type": "code",
   "execution_count": 94,
   "id": "46b2d8d4",
   "metadata": {},
   "outputs": [],
   "source": [
    "from sklearn.feature_extraction.text import CountVectorizer"
   ]
  },
  {
   "cell_type": "code",
   "execution_count": 95,
   "id": "54e9d857",
   "metadata": {},
   "outputs": [],
   "source": [
    "cv=CountVectorizer(max_features=5000,ngram_range=(1,3))"
   ]
  },
  {
   "cell_type": "code",
   "execution_count": 97,
   "id": "dd4ea03e",
   "metadata": {},
   "outputs": [],
   "source": [
    "X=cv.fit_transform(corpus).toarray()"
   ]
  },
  {
   "cell_type": "code",
   "execution_count": 98,
   "id": "fe10d537",
   "metadata": {},
   "outputs": [
    {
     "data": {
      "text/plain": [
       "(18285, 5000)"
      ]
     },
     "execution_count": 98,
     "metadata": {},
     "output_type": "execute_result"
    }
   ],
   "source": [
    "X.shape"
   ]
  },
  {
   "cell_type": "code",
   "execution_count": 99,
   "id": "53fbc52e",
   "metadata": {},
   "outputs": [
    {
     "data": {
      "text/plain": [
       "array([[0, 0, 0, ..., 0, 0, 0],\n",
       "       [0, 0, 0, ..., 0, 0, 0],\n",
       "       [0, 0, 0, ..., 0, 0, 0],\n",
       "       ...,\n",
       "       [0, 0, 0, ..., 0, 0, 0],\n",
       "       [0, 0, 0, ..., 0, 0, 0],\n",
       "       [0, 0, 0, ..., 0, 0, 0]], dtype=int64)"
      ]
     },
     "execution_count": 99,
     "metadata": {},
     "output_type": "execute_result"
    }
   ],
   "source": [
    "X"
   ]
  },
  {
   "cell_type": "code",
   "execution_count": null,
   "id": "5b00b8d2",
   "metadata": {},
   "outputs": [],
   "source": [
    "cv.get_feature_names()[0:20]"
   ]
  },
  {
   "cell_type": "code",
   "execution_count": 101,
   "id": "ebd21d9e",
   "metadata": {},
   "outputs": [
    {
     "data": {
      "text/plain": [
       "Index(['title', 'author', 'text', 'label'], dtype='object')"
      ]
     },
     "execution_count": 101,
     "metadata": {},
     "output_type": "execute_result"
    }
   ],
   "source": [
    "messages.columns"
   ]
  },
  {
   "cell_type": "code",
   "execution_count": 102,
   "id": "3190b707",
   "metadata": {},
   "outputs": [],
   "source": [
    "y=messages['label']"
   ]
  },
  {
   "cell_type": "code",
   "execution_count": 103,
   "id": "4e870ea1",
   "metadata": {},
   "outputs": [],
   "source": [
    "from sklearn.model_selection import train_test_split"
   ]
  },
  {
   "cell_type": "code",
   "execution_count": 104,
   "id": "4a4f514d",
   "metadata": {},
   "outputs": [],
   "source": [
    "X_train,X_test,y_train,y_test=train_test_split(X,y,test_size=0.25,random_state=42)"
   ]
  },
  {
   "cell_type": "code",
   "execution_count": 105,
   "id": "6080c067",
   "metadata": {},
   "outputs": [
    {
     "data": {
      "text/plain": [
       "array([[0, 0, 0, ..., 0, 0, 0],\n",
       "       [0, 0, 0, ..., 0, 0, 0],\n",
       "       [0, 0, 0, ..., 0, 0, 0],\n",
       "       ...,\n",
       "       [0, 0, 0, ..., 0, 0, 0],\n",
       "       [0, 0, 0, ..., 0, 0, 0],\n",
       "       [0, 0, 0, ..., 0, 0, 0]], dtype=int64)"
      ]
     },
     "execution_count": 105,
     "metadata": {},
     "output_type": "execute_result"
    }
   ],
   "source": [
    "X_test"
   ]
  },
  {
   "cell_type": "code",
   "execution_count": 106,
   "id": "ce63cbdb",
   "metadata": {},
   "outputs": [
    {
     "data": {
      "text/plain": [
       "(4572, 5000)"
      ]
     },
     "execution_count": 106,
     "metadata": {},
     "output_type": "execute_result"
    }
   ],
   "source": [
    "X_test.shape"
   ]
  },
  {
   "cell_type": "code",
   "execution_count": null,
   "id": "f0b7f624",
   "metadata": {},
   "outputs": [],
   "source": [
    "# Apply Naive Bayes on Data"
   ]
  },
  {
   "cell_type": "code",
   "execution_count": 107,
   "id": "5735e5fe",
   "metadata": {},
   "outputs": [],
   "source": [
    "from sklearn.naive_bayes import MultinomialNB\n",
    "classifier=MultinomialNB()"
   ]
  },
  {
   "cell_type": "code",
   "execution_count": 108,
   "id": "a06cd5b6",
   "metadata": {},
   "outputs": [
    {
     "data": {
      "text/html": [
       "<style>#sk-container-id-1 {color: black;background-color: white;}#sk-container-id-1 pre{padding: 0;}#sk-container-id-1 div.sk-toggleable {background-color: white;}#sk-container-id-1 label.sk-toggleable__label {cursor: pointer;display: block;width: 100%;margin-bottom: 0;padding: 0.3em;box-sizing: border-box;text-align: center;}#sk-container-id-1 label.sk-toggleable__label-arrow:before {content: \"▸\";float: left;margin-right: 0.25em;color: #696969;}#sk-container-id-1 label.sk-toggleable__label-arrow:hover:before {color: black;}#sk-container-id-1 div.sk-estimator:hover label.sk-toggleable__label-arrow:before {color: black;}#sk-container-id-1 div.sk-toggleable__content {max-height: 0;max-width: 0;overflow: hidden;text-align: left;background-color: #f0f8ff;}#sk-container-id-1 div.sk-toggleable__content pre {margin: 0.2em;color: black;border-radius: 0.25em;background-color: #f0f8ff;}#sk-container-id-1 input.sk-toggleable__control:checked~div.sk-toggleable__content {max-height: 200px;max-width: 100%;overflow: auto;}#sk-container-id-1 input.sk-toggleable__control:checked~label.sk-toggleable__label-arrow:before {content: \"▾\";}#sk-container-id-1 div.sk-estimator input.sk-toggleable__control:checked~label.sk-toggleable__label {background-color: #d4ebff;}#sk-container-id-1 div.sk-label input.sk-toggleable__control:checked~label.sk-toggleable__label {background-color: #d4ebff;}#sk-container-id-1 input.sk-hidden--visually {border: 0;clip: rect(1px 1px 1px 1px);clip: rect(1px, 1px, 1px, 1px);height: 1px;margin: -1px;overflow: hidden;padding: 0;position: absolute;width: 1px;}#sk-container-id-1 div.sk-estimator {font-family: monospace;background-color: #f0f8ff;border: 1px dotted black;border-radius: 0.25em;box-sizing: border-box;margin-bottom: 0.5em;}#sk-container-id-1 div.sk-estimator:hover {background-color: #d4ebff;}#sk-container-id-1 div.sk-parallel-item::after {content: \"\";width: 100%;border-bottom: 1px solid gray;flex-grow: 1;}#sk-container-id-1 div.sk-label:hover label.sk-toggleable__label {background-color: #d4ebff;}#sk-container-id-1 div.sk-serial::before {content: \"\";position: absolute;border-left: 1px solid gray;box-sizing: border-box;top: 0;bottom: 0;left: 50%;z-index: 0;}#sk-container-id-1 div.sk-serial {display: flex;flex-direction: column;align-items: center;background-color: white;padding-right: 0.2em;padding-left: 0.2em;position: relative;}#sk-container-id-1 div.sk-item {position: relative;z-index: 1;}#sk-container-id-1 div.sk-parallel {display: flex;align-items: stretch;justify-content: center;background-color: white;position: relative;}#sk-container-id-1 div.sk-item::before, #sk-container-id-1 div.sk-parallel-item::before {content: \"\";position: absolute;border-left: 1px solid gray;box-sizing: border-box;top: 0;bottom: 0;left: 50%;z-index: -1;}#sk-container-id-1 div.sk-parallel-item {display: flex;flex-direction: column;z-index: 1;position: relative;background-color: white;}#sk-container-id-1 div.sk-parallel-item:first-child::after {align-self: flex-end;width: 50%;}#sk-container-id-1 div.sk-parallel-item:last-child::after {align-self: flex-start;width: 50%;}#sk-container-id-1 div.sk-parallel-item:only-child::after {width: 0;}#sk-container-id-1 div.sk-dashed-wrapped {border: 1px dashed gray;margin: 0 0.4em 0.5em 0.4em;box-sizing: border-box;padding-bottom: 0.4em;background-color: white;}#sk-container-id-1 div.sk-label label {font-family: monospace;font-weight: bold;display: inline-block;line-height: 1.2em;}#sk-container-id-1 div.sk-label-container {text-align: center;}#sk-container-id-1 div.sk-container {/* jupyter's `normalize.less` sets `[hidden] { display: none; }` but bootstrap.min.css set `[hidden] { display: none !important; }` so we also need the `!important` here to be able to override the default hidden behavior on the sphinx rendered scikit-learn.org. See: https://github.com/scikit-learn/scikit-learn/issues/21755 */display: inline-block !important;position: relative;}#sk-container-id-1 div.sk-text-repr-fallback {display: none;}</style><div id=\"sk-container-id-1\" class=\"sk-top-container\"><div class=\"sk-text-repr-fallback\"><pre>MultinomialNB()</pre><b>In a Jupyter environment, please rerun this cell to show the HTML representation or trust the notebook. <br />On GitHub, the HTML representation is unable to render, please try loading this page with nbviewer.org.</b></div><div class=\"sk-container\" hidden><div class=\"sk-item\"><div class=\"sk-estimator sk-toggleable\"><input class=\"sk-toggleable__control sk-hidden--visually\" id=\"sk-estimator-id-1\" type=\"checkbox\" checked><label for=\"sk-estimator-id-1\" class=\"sk-toggleable__label sk-toggleable__label-arrow\">MultinomialNB</label><div class=\"sk-toggleable__content\"><pre>MultinomialNB()</pre></div></div></div></div></div>"
      ],
      "text/plain": [
       "MultinomialNB()"
      ]
     },
     "execution_count": 108,
     "metadata": {},
     "output_type": "execute_result"
    }
   ],
   "source": [
    "classifier.fit(X_train,y_train)"
   ]
  },
  {
   "cell_type": "code",
   "execution_count": 109,
   "id": "223c8b36",
   "metadata": {},
   "outputs": [
    {
     "data": {
      "text/plain": [
       "array(['0', '0', '0', ..., '0', '0', '0'], dtype='<U1')"
      ]
     },
     "execution_count": 109,
     "metadata": {},
     "output_type": "execute_result"
    }
   ],
   "source": [
    "pred=classifier.predict(X_test)\n",
    "pred"
   ]
  },
  {
   "cell_type": "code",
   "execution_count": 110,
   "id": "8c06351a",
   "metadata": {},
   "outputs": [],
   "source": [
    "from sklearn import metrics"
   ]
  },
  {
   "cell_type": "code",
   "execution_count": 111,
   "id": "58484236",
   "metadata": {},
   "outputs": [
    {
     "data": {
      "text/plain": [
       "0.6148293963254593"
      ]
     },
     "execution_count": 111,
     "metadata": {},
     "output_type": "execute_result"
    }
   ],
   "source": [
    "metrics.accuracy_score(y_test,pred)"
   ]
  },
  {
   "cell_type": "code",
   "execution_count": 122,
   "id": "02837743",
   "metadata": {},
   "outputs": [
    {
     "data": {
      "text/plain": [
       "array([[2600,    0],\n",
       "       [1761,  211]], dtype=int64)"
      ]
     },
     "execution_count": 122,
     "metadata": {},
     "output_type": "execute_result"
    }
   ],
   "source": [
    "cm=metrics.confusion_matrix(y_test,pred)\n",
    "cm"
   ]
  },
  {
   "cell_type": "code",
   "execution_count": 123,
   "id": "644edca6",
   "metadata": {},
   "outputs": [],
   "source": [
    "import matplotlib.pyplot as plt\n",
    "import numpy as np "
   ]
  },
  {
   "cell_type": "code",
   "execution_count": 124,
   "id": "7c457d2a",
   "metadata": {},
   "outputs": [
    {
     "data": {
      "text/plain": [
       "([<matplotlib.axis.YTick at 0x21771be2aa0>,\n",
       "  <matplotlib.axis.YTick at 0x21771be2860>],\n",
       " [Text(0, 0, 'positive'), Text(0, 1, 'negative')])"
      ]
     },
     "execution_count": 124,
     "metadata": {},
     "output_type": "execute_result"
    },
    {
     "data": {
      "image/png": "[encoded data removed]",
      "text/plain": [
       "<Figure size 640x480 with 2 Axes>"
      ]
     },
     "metadata": {},
     "output_type": "display_data"
    }
   ],
   "source": [
    "plt.imshow(cm,interpolation='nearest',cmap=plt.cm.Blues)\n",
    "plt.colorbar()\n",
    "plt.title('Confusion Matrix created by Jayanta Roy ')\n",
    "labels=['positive','negative']\n",
    "tick_marks=np.arange(len(labels))\n",
    "plt.xticks(tick_marks,labels)\n",
    "plt.yticks(tick_marks,labels)"
   ]
  },
  {
   "cell_type": "code",
   "execution_count": 125,
   "id": "4cd64498",
   "metadata": {},
   "outputs": [
    {
     "data": {
      "text/plain": [
       "array([0, 1])"
      ]
     },
     "execution_count": 125,
     "metadata": {},
     "output_type": "execute_result"
    }
   ],
   "source": [
    "labels=['positive','negative']\n",
    "np.arange(len(labels))"
   ]
  },
  {
   "cell_type": "code",
   "execution_count": 126,
   "id": "7f58f775",
   "metadata": {},
   "outputs": [],
   "source": [
    "def plot_confusion_matrix(cm):\n",
    "    plt.imshow(cm,interpolation='nearest',cmap=plt.cm.Blues)\n",
    "    plt.colorbar()\n",
    "    plt.title('Confusion Matrix created by Jayanta Roy ')\n",
    "    labels=['positive','negative']\n",
    "    tick_marks=np.arange(len(labels))\n",
    "    plt.xticks(tick_marks,labels)\n",
    "    plt.yticks(tick_marks,labels)"
   ]
  },
  {
   "cell_type": "code",
   "execution_count": 127,
   "id": "82940c7c",
   "metadata": {},
   "outputs": [
    {
     "data": {
      "image/png": "[encoded data removed]",
      "text/plain": [
       "<Figure size 640x480 with 2 Axes>"
      ]
     },
     "metadata": {},
     "output_type": "display_data"
    }
   ],
   "source": [
    "plot_confusion_matrix(cm)"
   ]
  },
  {
   "cell_type": "code",
   "execution_count": 128,
   "id": "562e3a49",
   "metadata": {},
   "outputs": [],
   "source": [
    "# Analyze your data & playing with more algorithms"
   ]
  },
  {
   "cell_type": "code",
   "execution_count": 129,
   "id": "c1f29fa0",
   "metadata": {},
   "outputs": [],
   "source": [
    "from sklearn.linear_model import PassiveAggressiveClassifier"
   ]
  },
  {
   "cell_type": "code",
   "execution_count": 151,
   "id": "59d689ab",
   "metadata": {},
   "outputs": [],
   "source": [
    "linear_clf=PassiveAggressiveClassifier()"
   ]
  },
  {
   "cell_type": "code",
   "execution_count": 152,
   "id": "0f9574de",
   "metadata": {},
   "outputs": [
    {
     "data": {
      "text/html": [
       "<style>#sk-container-id-3 {color: black;background-color: white;}#sk-container-id-3 pre{padding: 0;}#sk-container-id-3 div.sk-toggleable {background-color: white;}#sk-container-id-3 label.sk-toggleable__label {cursor: pointer;display: block;width: 100%;margin-bottom: 0;padding: 0.3em;box-sizing: border-box;text-align: center;}#sk-container-id-3 label.sk-toggleable__label-arrow:before {content: \"▸\";float: left;margin-right: 0.25em;color: #696969;}#sk-container-id-3 label.sk-toggleable__label-arrow:hover:before {color: black;}#sk-container-id-3 div.sk-estimator:hover label.sk-toggleable__label-arrow:before {color: black;}#sk-container-id-3 div.sk-toggleable__content {max-height: 0;max-width: 0;overflow: hidden;text-align: left;background-color: #f0f8ff;}#sk-container-id-3 div.sk-toggleable__content pre {margin: 0.2em;color: black;border-radius: 0.25em;background-color: #f0f8ff;}#sk-container-id-3 input.sk-toggleable__control:checked~div.sk-toggleable__content {max-height: 200px;max-width: 100%;overflow: auto;}#sk-container-id-3 input.sk-toggleable__control:checked~label.sk-toggleable__label-arrow:before {content: \"▾\";}#sk-container-id-3 div.sk-estimator input.sk-toggleable__control:checked~label.sk-toggleable__label {background-color: #d4ebff;}#sk-container-id-3 div.sk-label input.sk-toggleable__control:checked~label.sk-toggleable__label {background-color: #d4ebff;}#sk-container-id-3 input.sk-hidden--visually {border: 0;clip: rect(1px 1px 1px 1px);clip: rect(1px, 1px, 1px, 1px);height: 1px;margin: -1px;overflow: hidden;padding: 0;position: absolute;width: 1px;}#sk-container-id-3 div.sk-estimator {font-family: monospace;background-color: #f0f8ff;border: 1px dotted black;border-radius: 0.25em;box-sizing: border-box;margin-bottom: 0.5em;}#sk-container-id-3 div.sk-estimator:hover {background-color: #d4ebff;}#sk-container-id-3 div.sk-parallel-item::after {content: \"\";width: 100%;border-bottom: 1px solid gray;flex-grow: 1;}#sk-container-id-3 div.sk-label:hover label.sk-toggleable__label {background-color: #d4ebff;}#sk-container-id-3 div.sk-serial::before {content: \"\";position: absolute;border-left: 1px solid gray;box-sizing: border-box;top: 0;bottom: 0;left: 50%;z-index: 0;}#sk-container-id-3 div.sk-serial {display: flex;flex-direction: column;align-items: center;background-color: white;padding-right: 0.2em;padding-left: 0.2em;position: relative;}#sk-container-id-3 div.sk-item {position: relative;z-index: 1;}#sk-container-id-3 div.sk-parallel {display: flex;align-items: stretch;justify-content: center;background-color: white;position: relative;}#sk-container-id-3 div.sk-item::before, #sk-container-id-3 div.sk-parallel-item::before {content: \"\";position: absolute;border-left: 1px solid gray;box-sizing: border-box;top: 0;bottom: 0;left: 50%;z-index: -1;}#sk-container-id-3 div.sk-parallel-item {display: flex;flex-direction: column;z-index: 1;position: relative;background-color: white;}#sk-container-id-3 div.sk-parallel-item:first-child::after {align-self: flex-end;width: 50%;}#sk-container-id-3 div.sk-parallel-item:last-child::after {align-self: flex-start;width: 50%;}#sk-container-id-3 div.sk-parallel-item:only-child::after {width: 0;}#sk-container-id-3 div.sk-dashed-wrapped {border: 1px dashed gray;margin: 0 0.4em 0.5em 0.4em;box-sizing: border-box;padding-bottom: 0.4em;background-color: white;}#sk-container-id-3 div.sk-label label {font-family: monospace;font-weight: bold;display: inline-block;line-height: 1.2em;}#sk-container-id-3 div.sk-label-container {text-align: center;}#sk-container-id-3 div.sk-container {/* jupyter's `normalize.less` sets `[hidden] { display: none; }` but bootstrap.min.css set `[hidden] { display: none !important; }` so we also need the `!important` here to be able to override the default hidden behavior on the sphinx rendered scikit-learn.org. See: https://github.com/scikit-learn/scikit-learn/issues/21755 */display: inline-block !important;position: relative;}#sk-container-id-3 div.sk-text-repr-fallback {display: none;}</style><div id=\"sk-container-id-3\" class=\"sk-top-container\"><div class=\"sk-text-repr-fallback\"><pre>PassiveAggressiveClassifier()</pre><b>In a Jupyter environment, please rerun this cell to show the HTML representation or trust the notebook. <br />On GitHub, the HTML representation is unable to render, please try loading this page with nbviewer.org.</b></div><div class=\"sk-container\" hidden><div class=\"sk-item\"><div class=\"sk-estimator sk-toggleable\"><input class=\"sk-toggleable__control sk-hidden--visually\" id=\"sk-estimator-id-3\" type=\"checkbox\" checked><label for=\"sk-estimator-id-3\" class=\"sk-toggleable__label sk-toggleable__label-arrow\">PassiveAggressiveClassifier</label><div class=\"sk-toggleable__content\"><pre>PassiveAggressiveClassifier()</pre></div></div></div></div></div>"
      ],
      "text/plain": [
       "PassiveAggressiveClassifier()"
      ]
     },
     "execution_count": 152,
     "metadata": {},
     "output_type": "execute_result"
    }
   ],
   "source": [
    "linear_clf.fit(X_train,y_train)"
   ]
  },
  {
   "cell_type": "code",
   "execution_count": 132,
   "id": "d14c193c",
   "metadata": {},
   "outputs": [],
   "source": [
    "predictions=linear_clf.predict(X_test)"
   ]
  },
  {
   "cell_type": "code",
   "execution_count": 133,
   "id": "7bde6e57",
   "metadata": {},
   "outputs": [
    {
     "data": {
      "text/plain": [
       "0.6148293963254593"
      ]
     },
     "execution_count": 133,
     "metadata": {},
     "output_type": "execute_result"
    }
   ],
   "source": [
    "metrics.accuracy_score(y_test,predictions)"
   ]
  },
  {
   "cell_type": "code",
   "execution_count": 134,
   "id": "488e39de",
   "metadata": {},
   "outputs": [
    {
     "data": {
      "text/plain": [
       "array([[2600,    0],\n",
       "       [1761,  211]], dtype=int64)"
      ]
     },
     "execution_count": 134,
     "metadata": {},
     "output_type": "execute_result"
    }
   ],
   "source": [
    "cm2=metrics.confusion_matrix(y_test,predictions)\n",
    "cm2"
   ]
  },
  {
   "cell_type": "code",
   "execution_count": 136,
   "id": "4d17b60f",
   "metadata": {},
   "outputs": [
    {
     "data": {
      "image/png": "[encoded data removed]",
      "text/plain": [
       "<Figure size 640x480 with 2 Axes>"
      ]
     },
     "metadata": {},
     "output_type": "display_data"
    }
   ],
   "source": [
    "plot_confusion_matrix(cm2)"
   ]
  },
  {
   "cell_type": "code",
   "execution_count": null,
   "id": "71c1f90e",
   "metadata": {},
   "outputs": [],
   "source": [
    "feature_names=cv.get_feature_names()"
   ]
  },
  {
   "cell_type": "code",
   "execution_count": null,
   "id": "d2309c5b",
   "metadata": {},
   "outputs": [],
   "source": [
    "classifier.coef_[0]"
   ]
  },
  {
   "cell_type": "code",
   "execution_count": null,
   "id": "d797b359",
   "metadata": {},
   "outputs": [],
   "source": [
    "sorted(zip(classifier.coef_[0],feature_names),reverse=True[0:20]"
   ]
  },
  {
   "cell_type": "code",
   "execution_count": null,
   "id": "db60f514",
   "metadata": {},
   "outputs": [],
   "source": []
  }
 ],
 "metadata": {
  "kernelspec": {
   "display_name": "Python 3 (ipykernel)",
   "language": "python",
   "name": "python3"
  },
  "language_info": {
   "codemirror_mode": {
    "name": "ipython",
    "version": 3
   },
   "file_extension": ".py",
   "mimetype": "text/x-python",
   "name": "python",
   "nbconvert_exporter": "python",
   "pygments_lexer": "ipython3",
   "version": "3.10.7"
  }
 },
 "nbformat": 4,
 "nbformat_minor": 5
}
